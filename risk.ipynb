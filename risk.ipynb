{
 "cells": [
  {
   "cell_type": "markdown",
   "metadata": {},
   "source": [
    "Discourse-semantics of *risk* in the *New York Times*, 1963&ndash;2014\n",
    "=========================================="
   ]
  },
  {
   "cell_type": "markdown",
   "metadata": {},
   "source": [
    "**[Jens Zinn](mailto:jzinn@unimelb.edu.au?Subject=IPython%20NYT%20risk%20project), [Daniel McDonald](mailto:mcdonaldd@unimelb.edu.au?Subject=IPython%20NYT%20risk%20project)**\n",
    "--------------------------"
   ]
  },
  {
   "cell_type": "markdown",
   "metadata": {},
   "source": [
    "<br>\n",
    "\n",
    "> **SUMMARY:** This *IPython Notebook* demonstrates the findings from our investigation of *risk* in the NYT, as well as the code used to generate these findings. If you have the necessary dependencies installed, you can also use this notebook to interrogate and visualise the corpus yourself. "
   ]
  },
  {
   "cell_type": "markdown",
   "metadata": {},
   "source": [
    "### Setup"
   ]
  },
  {
   "cell_type": "markdown",
   "metadata": {},
   "source": [
    "If you haven't already done so, the first things we need to do are **install corpkit**, download data for NLTK's tokeniser, and **unzip our corpus**."
   ]
  },
  {
   "cell_type": "code",
   "execution_count": null,
   "metadata": {
    "collapsed": false
   },
   "outputs": [],
   "source": [
    "# install corpkit with either pip or easy_install\n",
    "try:\n",
    "    import pip\n",
    "    pip.main(['install', 'corpkit'])\n",
    "except ImportError:\n",
    "    import easy_install\n",
    "    easy_install.main([\"-U\",\"corpkit\"])"
   ]
  },
  {
   "cell_type": "code",
   "execution_count": null,
   "metadata": {
    "collapsed": false
   },
   "outputs": [],
   "source": [
    "# download nltk tokeniser data\n",
    "import nltk\n",
    "nltk.download('punkt')"
   ]
  },
  {
   "cell_type": "code",
   "execution_count": null,
   "metadata": {
    "collapsed": false
   },
   "outputs": [],
   "source": [
    "# unzip and untar our data\n",
    "! gzip -dc data/bipolar.tar.gz | tar -xf - -C data"
   ]
  },
  {
   "cell_type": "markdown",
   "metadata": {},
   "source": [
    "Great! Now we have everything we need to start."
   ]
  },
  {
   "cell_type": "markdown",
   "metadata": {},
   "source": [
    "### Orientation"
   ]
  },
  {
   "cell_type": "markdown",
   "metadata": {},
   "source": [
    " Let's import the functions we'll be using to investigate the corpus. These functions are designed for this interrogation, but also have more general use in mind, so you can likely use them on your own corpora.\n",
    "\n",
    "| **Function name** | Purpose                            | |\n",
    "| ----------------- | ---------------------------------- | |\n",
    "| `interrogator()`  | interrogate parsed corpora         | |\n",
    "| `dependencies()`  | interrogate parsed corpora for dependency info (presented later)  | |\n",
    "| `plotter()`       | visualise `interrogator()` results | |\n",
    "| `table()`          | return plotter() results as table | |\n",
    "| `quickview()`     | view `interrogator()` results      | |\n",
    "| `tally()`       | get total frequencies for `interrogator()` results      | |\n",
    "| `surgeon()`       | edit `interrogator()` results      | |\n",
    "| `merger()`       | merge `interrogator()` results      | |\n",
    "| `conc()`          | complex concordancing of subcorpora | |\n",
    "| `keywords()`          | get keywords and ngrams from `conc()` output | |\n",
    "| `collocates()`          | get collocates from `conc()` output| |\n",
    "| `quicktree()`          | visually represent a parse tree | |\n",
    "| `searchtree()`          | search a parse tree with a Tregex query | |"
   ]
  },
  {
   "cell_type": "code",
   "execution_count": 1,
   "metadata": {
    "collapsed": false
   },
   "outputs": [],
   "source": [
    "import os # for joining paths\n",
    "import corpkit\n",
    "from corpkit import (\n",
    "    interrogator, plotter, table, quickview, \n",
    "    tally, surgeon, merger, conc, keywords, \n",
    "    collocates, multiquery, report_display \n",
    "                    )\n",
    "# show figures in browser\n",
    "% matplotlib inline"
   ]
  },
  {
   "cell_type": "markdown",
   "metadata": {},
   "source": [
    "Next, let's set the path to our corpus. If you were using this interface for your own corpora, you would change this to the path to your data."
   ]
  },
  {
   "cell_type": "code",
   "execution_count": 2,
   "metadata": {
    "collapsed": false
   },
   "outputs": [],
   "source": [
    "# corpus of every article, with annual subcorpora\n",
    "annual_trees = 'data/nyt/years' "
   ]
  },
  {
   "cell_type": "markdown",
   "metadata": {},
   "source": [
    "### The report"
   ]
  },
  {
   "cell_type": "markdown",
   "metadata": {},
   "source": [
    "The focus of this notebook is our methodology and findings. These parts of the project are contextualised and elaborated upon in our written report of the project. Depending on your browser's capabilities/settings, the following will download or display our report:"
   ]
  },
  {
   "cell_type": "code",
   "execution_count": 4,
   "metadata": {
    "collapsed": false
   },
   "outputs": [
    {
     "data": {
      "text/html": [
       "<iframe src=report/risk_report.pdf width=800 height=650></iframe>"
      ],
      "text/latex": [
       "\\includegraphics[width=1.0\\textwidth]{report/risk_report.pdf}"
      ],
      "text/plain": [
       "<corpkit.notebook.PDF at 0x10ebca710>"
      ]
     },
     "execution_count": 4,
     "metadata": {},
     "output_type": "execute_result"
    }
   ],
   "source": [
    "report_display()"
   ]
  },
  {
   "cell_type": "markdown",
   "metadata": {},
   "source": [
    "### The data"
   ]
  },
  {
   "cell_type": "markdown",
   "metadata": {},
   "source": [
    "Our main corpus is comprised of paragraphs from *New York Times* articles that contain a risk word, which we have defined by regular expression as '(?i)'.?\\brisk.?\\b'. This includes *low-risk*, or *risk/reward* as single tokens, but excludes *brisk* or *asterisk*.\n",
    "\n",
    "The data comes from a number of sources.\n",
    "\n",
    "* 1963 editions were downloaded from ProQuest Newsstand as PDFs. Optical character recognition and manual processing was used to create a set of 1200 risk sentences.\n",
    "* The 1987&ndash;2006 editions were taken from the *NYT Annotated Corpus*.\n",
    "* 2007&ndash;2014 editions were downloaded from *ProQuest Newsstand* as HTML.\n",
    "\n",
    "In total, 149,504 documents were processed. The corpus from which the risk corpus was made is over 150 million words in length!\n",
    "\n",
    "The texts have been parsed for part of speech and grammatical structure by [`Stanford CoreNLP*](http://nlp.stanford.edu/software/corenlp.shtml). In this Notebook, we are only working with the parsed versions of the texts. We rely on [*Tregex*](http://nlp.stanford.edu/~manning/courses/ling289/Tregex.html) to interrogate the corpora. Tregex allows very complex searching of parsed trees, in combination with [Java Regular Expressions](http://docs.oracle.com/javase/7/docs/api/java/util/regex/Pattern.html). It's definitely worthwhile to learn the Tregex syntax, but in case you're time-poor, at the end of this notebook are a series of Tregex queries that you can copy and paste into *interrogator()` and `conc()` queries."
   ]
  },
  {
   "cell_type": "markdown",
   "metadata": {},
   "source": [
    "### Interrogating the corpus"
   ]
  },
  {
   "cell_type": "markdown",
   "metadata": {},
   "source": [
    "So, let's start by generating some general information about this corpus. First, let's define a query to find every word in the corpus. Run the cell below to define the *allwords_query* variable as the Tregex query to its right.\n",
    "\n",
    "> *When writing Tregex queries or Regular Expressions, remember to always use **r'...'** quotes!*"
   ]
  },
  {
   "cell_type": "code",
   "execution_count": 5,
   "metadata": {
    "collapsed": false
   },
   "outputs": [],
   "source": [
    "# any token containing letters or numbers (i.e. no punctuation):\n",
    "allwords_query = r'/[A-Za-z0-9]/ !< __' "
   ]
  },
  {
   "cell_type": "markdown",
   "metadata": {},
   "source": [
    "Next, we perform interrogations with `interrogator()`. Its most important arguments are:\n",
    "\n",
    "1. **path to corpus**\n",
    "\n",
    "2. Tregex **options**:\n",
    "  * **'-t'**: return only words\n",
    "  * **'-C'**: return a count of matches\n",
    "  * **'-u'**: return only the tag\n",
    "  * **'-o'**: return tag and word together\n",
    "\n",
    "3. the **Tregex query**\n",
    "\n",
    "We only need to count tokens, so we can use the **-C** option (it's often faster than getting lists of matching tokens). The cell below will run interrogator() over each annual subcorpus and count the number of matches for the query."
   ]
  },
  {
   "cell_type": "code",
   "execution_count": null,
   "metadata": {
    "collapsed": false
   },
   "outputs": [
    {
     "name": "stdout",
     "output_type": "stream",
     "text": [
      "\n",
      "18:39:57: Beginning corpus interrogation: data/nyt/years\n",
      "          Query: '/[A-Za-z0-9]/ !< __'\n",
      "          Counts only.\n",
      "          Interrogating corpus ... \n",
      "\n",
      "18:41:07: [**********                17%                             ] "
     ]
    }
   ],
   "source": [
    "allwords = interrogator(annual_trees, '-C', allwords_query) "
   ]
  },
  {
   "cell_type": "markdown",
   "metadata": {},
   "source": [
    "When the interrogation has finished, we can view our results:"
   ]
  },
  {
   "cell_type": "code",
   "execution_count": 14,
   "metadata": {
    "collapsed": false
   },
   "outputs": [
    {
     "name": "stdout",
     "output_type": "stream",
     "text": [
      "[u'Totals', [1963, 83325], [1987, 481830], [1988, 450872], [1989, 473741], [1990, 443712], [1991, 397694], [1992, 402754], [1993, 412920], [1994, 458677], [1995, 475672], [1996, 413403], [1997, 402636], [1998, 468697], [1999, 467253], [2000, 481373], [2001, 494127], [2002, 556852], [2003, 543076], [2004, 550630], [2005, 547293], [2006, 524091], [2007, 453255], [2008, 496002], [2009, 472376], [2010, 505927], [2011, 545237], [2012, 497773], [2013, 489154], [2014, 311634], [u'Total', 13301986]]\n"
     ]
    }
   ],
   "source": [
    "# from the allwords results, print the totals\n",
    "print allwords.totals"
   ]
  },
  {
   "cell_type": "markdown",
   "metadata": {},
   "source": [
    "If you want to see the query and options that created the results, you can use:"
   ]
  },
  {
   "cell_type": "code",
   "execution_count": 8,
   "metadata": {
    "collapsed": false
   },
   "outputs": [
    {
     "name": "stdout",
     "output_type": "stream",
     "text": [
      "['data/nyt/years', '/[A-Za-z0-9]/ !< __', '-C']\n"
     ]
    }
   ],
   "source": [
    "print allwords.query"
   ]
  },
  {
   "cell_type": "markdown",
   "metadata": {},
   "source": [
    "### Plotting results"
   ]
  },
  {
   "cell_type": "markdown",
   "metadata": {},
   "source": [
    "Lists of years and totals are pretty dry. Luckily, we can use the `plotter()` function to visualise our results. At minimum, `plotter()` needs two arguments:\n",
    "\n",
    "1. a title (in quotation marks)\n",
    "2. a list of results to plot\n",
    "\n",
    "There is also an argument for projecting the 1963 and 2014 results, which can either be set to true or false. By default, it is true, and in this Notebook from now on we'll leave it turned on. We'll try both options here:"
   ]
  },
  {
   "cell_type": "code",
   "execution_count": 16,
   "metadata": {
    "collapsed": true
   },
   "outputs": [],
   "source": []
  },
  {
   "cell_type": "code",
   "execution_count": 17,
   "metadata": {
    "collapsed": false
   },
   "outputs": [
    {
     "data": {
      "image/png": "[encoded data removed]",
      "text/plain": [
       "<matplotlib.figure.Figure at 0x11329f210>"
      ]
     },
     "metadata": {},
     "output_type": "display_data"
    },
    {
     "data": {
      "image/png": "[encoded data removed]",
      "text/plain": [
       "<matplotlib.figure.Figure at 0x115e0fed0>"
      ]
     },
     "metadata": {},
     "output_type": "display_data"
    }
   ],
   "source": [
    "plotter('Word counts in each subcorpus', allwords.totals, projection = False)\n",
    "plotter('Word counts in each subcorpus (projected)', allwords.totals, projection = True)"
   ]
  },
  {
   "cell_type": "markdown",
   "metadata": {},
   "source": [
    "Great! So, we can see that the number of words per year varies quite a lot. That's worth keeping in mind."
   ]
  },
  {
   "cell_type": "markdown",
   "metadata": {},
   "source": [
    "### Frequency of risk words in the NYT"
   ]
  },
  {
   "cell_type": "markdown",
   "metadata": {},
   "source": [
    "Next, let's count the total number of risk words. Notice that we are using the '-o' flag, instead of the **-C** flag."
   ]
  },
  {
   "cell_type": "code",
   "execution_count": 10,
   "metadata": {
    "collapsed": false
   },
   "outputs": [
    {
     "name": "stdout",
     "output_type": "stream",
     "text": [
      "\n"
     ]
    }
   ],
   "source": [
    "# our query:\n",
    "riskwords_query = r'__ < /(?i).?\\brisk.?\\b/' # any risk word and its word class/part of speech\n",
    "# get all risk words and their tags:\n",
    "riskwords = interrogator(annual_trees, '-o', riskwords_query)"
   ]
  },
  {
   "cell_type": "markdown",
   "metadata": {},
   "source": [
    "Even when do not use the -C flag, we can access the total number of matches as before:"
   ]
  },
  {
   "cell_type": "code",
   "execution_count": 11,
   "metadata": {
    "collapsed": false
   },
   "outputs": [
    {
     "data": {
      "image/png": "[encoded data removed]",
      "text/plain": [
       "<matplotlib.figure.Figure at 0x1134cbd90>"
      ]
     },
     "metadata": {},
     "output_type": "display_data"
    }
   ],
   "source": [
    "plotter('Risk words', riskwords.totals)"
   ]
  },
  {
   "cell_type": "markdown",
   "metadata": {},
   "source": [
    "At the moment, it's hard to tell whether or not these counts are simply because our annual NYT samples are different sizes. To account for this, we can calculate the percentage of parsed words that are risk words. This means combining the two interrogations we have already performed.\n",
    "\n",
    "We can do this by passing a third argument to `plotter()`."
   ]
  },
  {
   "cell_type": "code",
   "execution_count": 12,
   "metadata": {
    "collapsed": false
   },
   "outputs": [
    {
     "data": {
      "image/png": "[encoded data removed]",
      "text/plain": [
       "<matplotlib.figure.Figure at 0x113281f50>"
      ]
     },
     "metadata": {},
     "output_type": "display_data"
    }
   ],
   "source": [
    "plotter('Relative frequency of risk words', riskwords.totals, \n",
    "    fract_of = allwords.totals)"
   ]
  },
  {
   "cell_type": "markdown",
   "metadata": {},
   "source": [
    "That's more helpful. We can now see some interesting peaks and troughs in the proportion of risk words. We can also see that 1963 contains the highest proportion of risk words. This is because the manual corrector of 1963 OCR entries preserved only the sentence containing risk words, rather than the paragraph.\n",
    "\n",
    "It's often helpful to not plot 1963 results for this reason. To do this, we can add an argument to the `plotter()` call:"
   ]
  },
  {
   "cell_type": "code",
   "execution_count": 13,
   "metadata": {
    "collapsed": false
   },
   "outputs": [
    {
     "data": {
      "image/png": "[encoded data removed]",
      "text/plain": [
       "<matplotlib.figure.Figure at 0x1163ac6d0>"
      ]
     },
     "metadata": {},
     "output_type": "display_data"
    }
   ],
   "source": [
    "plotter('Relative frequency of risk words', riskwords.totals, \n",
    "    fract_of = allwords.totals, skip63 = True)"
   ]
  },
  {
   "cell_type": "markdown",
   "metadata": {},
   "source": [
    "Perhaps we're interested in not only the frequency of risk words, but the frequency of different `kinds* of risk words. We actually already collected this data during our last *interrogator()` query.\n",
    "\n",
    "We can print just the first three entries of the results list, rather than the totals list:"
   ]
  },
  {
   "cell_type": "code",
   "execution_count": 18,
   "metadata": {
    "collapsed": false
   },
   "outputs": [
    {
     "name": "stdout",
     "output_type": "stream",
     "text": [
      "[u'( nn risk )', [1963, 740], [1987, 4116], [1988, 4049], [1989, 4164], [1990, 4223], [1991, 3825], [1992, 3578], [1993, 3822], [1994, 3837], [1995, 3905], [1996, 3882], [1997, 3955], [1998, 4381], [1999, 4263], [2000, 4407], [2001, 4706], [2002, 5722], [2003, 5605], [2004, 5625], [2005, 5538], [2006, 5415], [2007, 5505], [2008, 5877], [2009, 5409], [2010, 5596], [2011, 6107], [2012, 5376], [2013, 5476], [2014, 3395], [u'Total', 132499]]\n",
      "[u'( nns risks )', [1963, 404], [1987, 1612], [1988, 1453], [1989, 1534], [1990, 1508], [1991, 1372], [1992, 1533], [1993, 1426], [1994, 1507], [1995, 1429], [1996, 1335], [1997, 1389], [1998, 1607], [1999, 1646], [2000, 1657], [2001, 1670], [2002, 2199], [2003, 1926], [2004, 1930], [2005, 2045], [2006, 2022], [2007, 2028], [2008, 2063], [2009, 2096], [2010, 2218], [2011, 2354], [2012, 2102], [2013, 2019], [2014, 1307], [u'Total', 49391]]\n",
      "[u'( jj risky )', [1963, 65], [1987, 549], [1988, 511], [1989, 543], [1990, 612], [1991, 530], [1992, 545], [1993, 546], [1994, 604], [1995, 632], [1996, 605], [1997, 570], [1998, 752], [1999, 688], [2000, 784], [2001, 670], [2002, 651], [2003, 715], [2004, 642], [2005, 692], [2006, 648], [2007, 379], [2008, 465], [2009, 425], [2010, 436], [2011, 399], [2012, 385], [2013, 355], [2014, 190], [u'Total', 15588]]\n"
     ]
    }
   ],
   "source": [
    "for word in riskwords.results[:3]:\n",
    "    print word\n",
    "# uncomment below to print the totals:\n",
    "# print riskwords.totals"
   ]
  },
  {
   "cell_type": "markdown",
   "metadata": {},
   "source": [
    "We now have enough data to do some serious plotting."
   ]
  },
  {
   "cell_type": "code",
   "execution_count": 19,
   "metadata": {
    "collapsed": false
   },
   "outputs": [
    {
     "data": {
      "image/png": "[encoded data removed]",
      "text/plain": [
       "<matplotlib.figure.Figure at 0x1158201d0>"
      ]
     },
     "metadata": {},
     "output_type": "display_data"
    },
    {
     "data": {
      "image/png": "[encoded data removed]",
      "text/plain": [
       "<matplotlib.figure.Figure at 0x115c0afd0>"
      ]
     },
     "metadata": {},
     "output_type": "display_data"
    }
   ],
   "source": [
    "plotter('Risk word / all risk words', riskwords.results, \n",
    "    fract_of = riskwords.totals)\n",
    "plotter('Risk word / all words', riskwords.results, \n",
    "    fract_of = allwords.totals)"
   ]
  },
  {
   "cell_type": "markdown",
   "metadata": {},
   "source": [
    "### Customising visualisations"
   ]
  },
  {
   "cell_type": "markdown",
   "metadata": {},
   "source": [
    "By default, `plotter()` plots the seven most frequent results, including 1963 and projecting 1963 and 2014.\n",
    "\n",
    " We can use other `plotter()` arguments to customise what our chart shows. `plotter()`'s possible arguments are:\n",
    "\n",
    " | plotter() argument | Mandatory/default?       |  Use          | Type  |\n",
    " | :------|:------- |:-------------|:-----|\n",
    " | *title* | **mandatory**      | A title for your plot | string |\n",
    " | `results* | **mandatory**      | the results you want to plot | *interrogator()` total |\n",
    " | *fract_of* | None      | results for plotting relative frequencies/ratios etc. | list (interrogator(-C) form) |\n",
    " | *num_to_plot* | 7     | number of top results to display     |   integer |\n",
    " | *skip63* | False    | do not plot 1963     |    integer |\n",
    " | *proj63* | 4     | multiplier to project 1963 results and totals | integer |\n",
    " | *multiplier* | 100     | result * multiplier / total: use 1 for ratios | integer |\n",
    " | *x_label* | False    | custom label for the x-axis     |  string |\n",
    " | *y_label* | False    | custom label for the y-axis     |  string |\n",
    " | *legend_totals* | False    | Print total/rel freq in legend     |  boolean \n",
    " | *projection* | True    | Project 1963 and 2014 editions     |  boolean |\n",
    " | *yearspan* | False    | plot a span of years |  a list of two int years |\n",
    " | *csvmake* | False    | make csvmake the title of csv output file    |  string |\n",
    " | *save* | False    | save generated image (True = with title as name)   |  True/False/string |\n",
    "\n",
    "You can easily use these to get different kinds of output. Try changing some parameters below:"
   ]
  },
  {
   "cell_type": "code",
   "execution_count": null,
   "metadata": {
    "collapsed": false
   },
   "outputs": [],
   "source": [
    "plotter('Relative frequencies of risk words', riskwords.results, fract_of = allwords.totals,\n",
    "    y_label = 'Percentage of all risk words', num_to_plot = 5, \n",
    "    skip63 = False, projection = True, proj63 = 5, csvmake = 'riskwords.csv', legend_totals = True)"
   ]
  },
  {
   "cell_type": "markdown",
   "metadata": {},
   "source": [
    "If you just generated a csv file, you can quickly get the results with:"
   ]
  },
  {
   "cell_type": "code",
   "execution_count": null,
   "metadata": {
    "collapsed": false
   },
   "outputs": [],
   "source": [
    "!cat 'riskwords.csv'  | head -n 7\n",
    "# and to delete it:\n",
    "#!rm 'riskwords.csv'"
   ]
  },
  {
   "cell_type": "markdown",
   "metadata": {},
   "source": [
    "Use *yearspan* to specify years of interest:"
   ]
  },
  {
   "cell_type": "code",
   "execution_count": null,
   "metadata": {
    "collapsed": false
   },
   "outputs": [],
   "source": [
    "plotter('Relative frequencies of risk words', riskwords.results, fract_of = allwords.totals,\n",
    "    y_label = 'Percentage of all risk words', num_to_plot = 5, skip63 = False, \n",
    "    yearspan = [1963,1998])"
   ]
  },
  {
   "cell_type": "markdown",
   "metadata": {},
   "source": [
    "Another way to change `plotter()` visualisations is by not passing certain results to `plotter()`.\n",
    "\n",
    "Each entry in the list of results is indexed: the top result is item 0, the second result is item 1, and so on.\n",
    "\n",
    "So, you can skip the first 2 results by using [2:] after the results list:"
   ]
  },
  {
   "cell_type": "code",
   "execution_count": null,
   "metadata": {
    "collapsed": false
   },
   "outputs": [],
   "source": [
    "plotter('Relative frequencies of risk words', riskwords.results[2:], fract_of = allwords.totals,\n",
    "    y_label = 'Percentage of all risk words', num_to_plot = 5, skip63 = False, projection = True, proj63 = 5, legend_totals = True)"
   ]
  },
  {
   "cell_type": "markdown",
   "metadata": {},
   "source": [
    "If you are after a specific set of indexed items, it's probably better to use `surgeon()` (described below). For completeness, though, here's another way:"
   ]
  },
  {
   "cell_type": "code",
   "execution_count": null,
   "metadata": {
    "collapsed": false
   },
   "outputs": [],
   "source": [
    "indices_we_want = [32,30,40]\n",
    "plotter('Relative frequencies of risk words', [ riskwords.results[i] for i in indices_we_want], \n",
    "        num_to_plot = 5, skip63 = True, projection = True, proj63 = 5)"
   ]
  },
  {
   "cell_type": "markdown",
   "metadata": {},
   "source": [
    "### table()"
   ]
  },
  {
   "cell_type": "markdown",
   "metadata": {},
   "source": [
    "If you want to quickly table the results of a csv file, you can use `table()`. Its only main argument is the path to the csv file as string. There are two optional arguments. First, you can set *allresults* to *True* to table all results, rather than just the plotted results. When this option is set to true, you may get *way* too many results. To cope with this, there is a *maxresults* argument, whose value by default is 50. You can overwrite this default to table more or fewer results."
   ]
  },
  {
   "cell_type": "code",
   "execution_count": null,
   "metadata": {
    "collapsed": false
   },
   "outputs": [],
   "source": [
    "table('riskwords.csv')"
   ]
  },
  {
   "cell_type": "code",
   "execution_count": null,
   "metadata": {
    "collapsed": false
   },
   "outputs": [],
   "source": [
    "table('riskwords.csv', allresults = True, maxresults = 30)"
   ]
  },
  {
   "cell_type": "markdown",
   "metadata": {},
   "source": [
    "### quickview()"
   ]
  },
  {
   "cell_type": "markdown",
   "metadata": {},
   "source": [
    "`quickview()` is a function that quickly shows the n most frequent items in a list. Its arguments are:\n",
    "\n",
    "1. an `interrogator()` result\n",
    "2. number of results to show (default = 50)"
   ]
  },
  {
   "cell_type": "code",
   "execution_count": null,
   "metadata": {
    "collapsed": false
   },
   "outputs": [],
   "source": [
    "quickview(riskwords.results, n = 25)"
   ]
  },
  {
   "cell_type": "markdown",
   "metadata": {},
   "source": [
    "The number shown next to the item is its index. You can use this number to refer to an entry when editing results."
   ]
  },
  {
   "cell_type": "markdown",
   "metadata": {},
   "source": [
    "### tally()"
   ]
  },
  {
   "cell_type": "markdown",
   "metadata": {},
   "source": [
    "`tally()` simply displays the total occurrences of results. Its first argument is the list you want tallies from. For its second argument, you can use:\n",
    "\n",
    "* a list of indices for results you want to tally\n",
    "* a single integer, which will be interpreted as the index of the item you want\n",
    "* a regular expression to search for\n",
    "* a string, 'all', which will tally every result. This could be very many results, so it may be worth limiting the number of items you pass to it with [:n], as in the second example below:"
   ]
  },
  {
   "cell_type": "code",
   "execution_count": null,
   "metadata": {
    "collapsed": false
   },
   "outputs": [],
   "source": [
    "tally(riskwords.results, [0, 5, 10])"
   ]
  },
  {
   "cell_type": "code",
   "execution_count": null,
   "metadata": {
    "collapsed": false
   },
   "outputs": [],
   "source": [
    "tally(riskwords.results[:10], 'all')"
   ]
  },
  {
   "cell_type": "markdown",
   "metadata": {},
   "source": [
    "The Regular Expression option is useful for merging results (see below)."
   ]
  },
  {
   "cell_type": "markdown",
   "metadata": {},
   "source": [
    "### surgeon()"
   ]
  },
  {
   "cell_type": "markdown",
   "metadata": {},
   "source": [
    "Results lists can be edited quickly with `surgeon()`. `surgeon()`'s arguments are:\n",
    "\n",
    "1. an `interrogator()` results list\n",
    "2. *criteria*: either a [Regular Expression](http://www.cheatography.com/davechild/cheat-sheets/regular-expressions/) or a list of indices.\n",
    "3. *remove = True/False*\n",
    "\n",
    "By default, `surgeon()` keeps anything matching the regex, but this can be inverted with a *remove = True* argument. Because you are duplicating the original list, you don't have to worry about deleting `interrogator()` results."
   ]
  },
  {
   "cell_type": "code",
   "execution_count": null,
   "metadata": {
    "collapsed": false
   },
   "outputs": [],
   "source": [
    "# low and high risks, using indices \n",
    "lowhighrisks = surgeon(riskwords.results, [4, 9, 17]) # keep 4, 9 and 17\n",
    "plotter('Low-, high- and higher- risk', lowhighrisks.results, num_to_plot = 3, skip63 = True)\n",
    "\n",
    "# only hyphenate words:\n",
    "nohyphenates = surgeon(riskwords.results, r'\\b.*-.*\\b', remove = True) # remove tokens with hyphens\n",
    "quickview(nohyphenates.results)\n",
    "plotter('Non-hypenate risk words', nohyphenates.results, fract_of = riskwords.totals, \n",
    "    y_label = 'Percentage of all risk words', num_to_plot = 7, skip63 = True)\n",
    "\n",
    "# only verbal risk words\n",
    "verbalrisks = surgeon(riskwords.results, r'^\\(v.*') #keep any token with tag starting with 'v'\n",
    "plotter('Verbal risk words', verbalrisks, fract_of = allwords.totals, \n",
    "    y_label = 'Percentage of all words', num_to_plot = 6, skip63 = True)"
   ]
  },
  {
   "cell_type": "markdown",
   "metadata": {},
   "source": [
    "Note the warning you'll receive if you specify an interrogation, rather than a results list."
   ]
  },
  {
   "cell_type": "markdown",
   "metadata": {},
   "source": [
    "### merger()"
   ]
  },
  {
   "cell_type": "markdown",
   "metadata": {},
   "source": [
    "`merger()` is for merging items in a list. Like `surgeon()`, it duplicates the old list. Its arguments are:\n",
    "\n",
    "1. the list you want to modify\n",
    "2. the indices of results you want to merge, or a regex to match\n",
    "3. newname = *str/int/False*: \n",
    "  * if string, the string becomes the merged item name.\n",
    "  * if integer, the merged entry takes the name of the item indexed with the integer.\n",
    "  * if not specified/False, the most most frequent item in the list becomes the name."
   ]
  },
  {
   "cell_type": "code",
   "execution_count": null,
   "metadata": {
    "collapsed": false
   },
   "outputs": [],
   "source": [
    "low_high_combined = merger(lowhighrisks.results, [0, 2],  newname = 'high/higher risk')\n",
    "plotter('Low and high risks', low_high_combined.results)"
   ]
  },
  {
   "cell_type": "markdown",
   "metadata": {},
   "source": [
    "### Diversity of risk words"
   ]
  },
  {
   "cell_type": "markdown",
   "metadata": {},
   "source": [
    "It's important to note that the kind of results we generate are hackable. Using some straight Python, combined with `merger()`, we can figure out how unique risk words appear in the NYT each year.\n",
    "\n",
    "To do this, we can take `riskwords.results`, duplicate it, and change every count over 0 into 1."
   ]
  },
  {
   "cell_type": "code",
   "execution_count": null,
   "metadata": {
    "collapsed": false
   },
   "outputs": [],
   "source": [
    "import copy\n",
    "all_ones = copy.deepcopy(riskwords.results)\n",
    "for entry in all_ones:\n",
    "    for tup in entry[1:]:\n",
    "        if tup[1] > 0:\n",
    "            tup[1] = 1"
   ]
  },
  {
   "cell_type": "markdown",
   "metadata": {},
   "source": [
    "We can then use `merger()` to merge every entry. This will tell use how many unique words there are each year."
   ]
  },
  {
   "cell_type": "code",
   "execution_count": null,
   "metadata": {
    "collapsed": false
   },
   "outputs": [],
   "source": [
    "# this generates heaps of output, so let's clear it\n",
    "mergedresults = merger(all_ones.results, r'.*', newname = 'Different risk words')\n",
    "clear_output()"
   ]
  },
  {
   "cell_type": "code",
   "execution_count": null,
   "metadata": {
    "collapsed": false
   },
   "outputs": [],
   "source": [
    "# you could also use mergedresults.results[0]\n",
    "plotter('Diversity of risk words', mergedresults.totals, \n",
    "    skip63 = True, y_label = 'Unique risk words')"
   ]
  },
  {
   "cell_type": "markdown",
   "metadata": {},
   "source": [
    "So, we can see a generally upward trajectory, with more risk words constantly being used. Many of these results appear once, however, and many are nonwords. *Can you figure out how to remove words that appear only once per year?*"
   ]
  },
  {
   "cell_type": "markdown",
   "metadata": {},
   "source": [
    "### conc()"
   ]
  },
  {
   "cell_type": "markdown",
   "metadata": {},
   "source": [
    "`conc()` produces concordances of a subcorpus based on a Tregex query. Its main arguments are:\n",
    "\n",
    "1. A subcorpus to search *(remember to put it in quotation marks!)*\n",
    "2. A Tregex query"
   ]
  },
  {
   "cell_type": "code",
   "execution_count": null,
   "metadata": {
    "collapsed": false
   },
   "outputs": [],
   "source": [
    "# here, we use a subcorpus of politics articles,\n",
    "# rather than the total annual editions.\n",
    "lines = conc('data/nyt/politics/1999', r'/JJ.?/ << /(?i).?\\brisk.?\\b/') # adj containing a risk word"
   ]
  },
  {
   "cell_type": "markdown",
   "metadata": {},
   "source": [
    "You can set `conc()` to print only the first ten examples with `n = 10`, or ten random these with the `n = 15, random = True` parameter."
   ]
  },
  {
   "cell_type": "code",
   "execution_count": null,
   "metadata": {
    "collapsed": false
   },
   "outputs": [],
   "source": [
    "lines = conc('data/nyt/years/2007', r'/VB.?/ < /(?i).?\\brisk.?\\b/', n = 15, random = True)"
   ]
  },
  {
   "cell_type": "markdown",
   "metadata": {},
   "source": [
    "`conc()` takes another argument, window, which alters the amount of co-text appearing either side of the match. The default is 50 characters"
   ]
  },
  {
   "cell_type": "code",
   "execution_count": null,
   "metadata": {
    "collapsed": false
   },
   "outputs": [],
   "source": [
    "lines = conc('data/nyt/health/2013', r'/VB.?/ << /(?i).?\\brisk.?\\b/', n = 15, random = True, window = 20)"
   ]
  },
  {
   "cell_type": "markdown",
   "metadata": {},
   "source": [
    "`conc()` also allows you to view parse trees. By default, it's false:"
   ]
  },
  {
   "cell_type": "code",
   "execution_count": null,
   "metadata": {
    "collapsed": false
   },
   "outputs": [],
   "source": [
    "lines = conc('data/nyt/years/2013', r'/VB.?/ < /(?i)\\btrad.?/', trees = True)"
   ]
  },
  {
   "cell_type": "markdown",
   "metadata": {},
   "source": [
    "The final `conc()` argument is a *csv = 'filename'*, which will produce a tab-separated spreadsheet with the results of your query. You can copy and paste this data into Excel."
   ]
  },
  {
   "cell_type": "code",
   "execution_count": null,
   "metadata": {
    "collapsed": false
   },
   "outputs": [],
   "source": [
    "lines = conc('data/nyt/years/2005', r'/JJ.?/ < /(?i).?\\brisk.?/ > (NP <<# /(?i)invest.?/)',\n",
    "    window = 30, trees = False, csvmake = 'concordances.csv')"
   ]
  },
  {
   "cell_type": "code",
   "execution_count": null,
   "metadata": {
    "collapsed": false
   },
   "outputs": [],
   "source": [
    "!cat 'concordances.csv'\n",
    "# and to delete it:\n",
    "# !rm 'concordances.txt'"
   ]
  },
  {
   "cell_type": "markdown",
   "metadata": {},
   "source": [
    "### Keywords, ngrams and collocates"
   ]
  },
  {
   "cell_type": "markdown",
   "metadata": {},
   "source": [
    "There are also functions for keywording, ngramming and collocation. Each can take a number of kinds of input data:\n",
    "\n",
    "1. a path to a subcorpus (of either parse trees or raw text)\n",
    "2. a path to a csv file generated with `conc()`\n",
    "3. a string of text\n",
    "4. a list of strings (i.e. output from `conc()`) \n",
    "\n",
    " `keywords()` produces both keywords and ngrams. It relies on code from the [Spindle](http://openspires.oucs.ox.ac.uk/spindle/) project."
   ]
  },
  {
   "cell_type": "code",
   "execution_count": null,
   "metadata": {
    "collapsed": false
   },
   "outputs": [],
   "source": [
    "keys, ngrams = keywords('concordances.csv')\n",
    "for key in keys[:10]:\n",
    "    print key\n",
    "for ngram in ngrams:\n",
    "    print ngram"
   ]
  },
  {
   "cell_type": "code",
   "execution_count": null,
   "metadata": {
    "collapsed": false
   },
   "outputs": [],
   "source": [
    "colls = collocates('concordances.csv')\n",
    "for coll in colls:\n",
    "    print coll"
   ]
  },
  {
   "cell_type": "markdown",
   "metadata": {},
   "source": [
    "With the `collocates()` function, you can specify the maximum distance at which two tokens will be considered collocates."
   ]
  },
  {
   "cell_type": "code",
   "execution_count": null,
   "metadata": {
    "collapsed": false
   },
   "outputs": [],
   "source": [
    "colls = collocates('concordances.csv', window = 2)\n",
    "for coll in colls:\n",
    "    print coll"
   ]
  },
  {
   "cell_type": "markdown",
   "metadata": {},
   "source": [
    "### quicktree() and searchtree()"
   ]
  },
  {
   "cell_type": "markdown",
   "metadata": {},
   "source": [
    "The two functions are useful for visualising and searching individual syntax trees. They have proven useful as a way to practice your Tregex queries.\n",
    "\n",
    "The easiest place to get a parse tree is from a CSV file generated using `conc()` with *trees* set to *True*. Alternatively, you can open files in the data directory directly.\n",
    "\n",
    "`quicktree()` generates a visual representation of a parse tree. Here's one from 1989:"
   ]
  },
  {
   "cell_type": "code",
   "execution_count": null,
   "metadata": {
    "collapsed": false
   },
   "outputs": [],
   "source": [
    "tree = '(ROOT (S (NP (NN Pre-conviction) (NN attachment)) (VP (VBZ carries) (PP (IN with) (NP (PRP it))) (NP (NP (DT the) (JJ obvious) (NN risk)) (PP (IN of) (S (VP (VBG imposing) (NP (JJ drastic) (NN punishment)) (PP (IN before) (NP (NN conviction)))))))) (. .)))'\n",
    "quicktree(tree)"
   ]
  },
  {
   "cell_type": "markdown",
   "metadata": {},
   "source": [
    "`searchtree()` requires a tree and a Tregex query. It will return a list of query matches."
   ]
  },
  {
   "cell_type": "code",
   "execution_count": null,
   "metadata": {
    "collapsed": false
   },
   "outputs": [],
   "source": [
    "print searchtree(tree, r'/VB.?/ >># (VP $ NP)')\n",
    "print searchtree(tree, r'NP')"
   ]
  },
  {
   "cell_type": "markdown",
   "metadata": {},
   "source": [
    "Now you're familiar with the corpus and functions. Before we start our corpus interrogation, we'll also present a *very* brief explanation of *Systemic Functional Linguistics*&mdash;the theory of language that underlies our analytical approach."
   ]
  },
  {
   "cell_type": "markdown",
   "metadata": {},
   "source": [
    "### Functional linguistics"
   ]
  },
  {
   "cell_type": "markdown",
   "metadata": {},
   "source": [
    "*Functional linguistics* is a research area concerned with how *realised language* (lexis and grammar) work to achieve meaningful social functions. One functional linguistic theory is *Systemic Functional Linguistics*, developed by Michael Halliday."
   ]
  },
  {
   "cell_type": "code",
   "execution_count": null,
   "metadata": {
    "collapsed": false
   },
   "outputs": [],
   "source": [
    "from IPython.display import HTML\n",
    "HTML('<iframe src=http://en.mobile.wikipedia.org/wiki/Michael_Halliday?useformat=mobile width=700 height=350></iframe>')"
   ]
  },
  {
   "cell_type": "markdown",
   "metadata": {},
   "source": [
    "Central to the theory is a division between **experiential meanings** and **interpersonal meanings**.\n",
    "\n",
    "* Experiential meanings communicate what happened to whom, under what circumstances.\n",
    "* Interpersonal meanings negotiate identities and role relationships between speakers \n",
    "\n",
    "Halliday argues that these two kinds of meaning are realised **simultaneously** through different parts of English grammar.\n",
    "\n",
    "* Experiential meanings are made through **transitivity choices**.\n",
    "* Interpersonal meanings are made through **mood choices**\n",
    "\n",
    "Here's one visualisation of it. We're concerned with the two left-hand columns. Each level is an abstraction of the one below it.\n",
    "\n",
    "<br>\n",
    "<img style=\"float:left\" src=\"https://raw.githubusercontent.com/interrogator/sfl_corpling/master/cmc-2014/images/egginsfixed.jpg\" alt=\"SFL metafunctions\"  height=\"500\" width=\"500\" />\n",
    "<br>"
   ]
  },
  {
   "cell_type": "markdown",
   "metadata": {},
   "source": [
    "Transitivity choices include fitting together configurations of:\n",
    "\n",
    "* Participants (*a man, green bikes*)\n",
    "* Processes (*sleep, has always been, is considering*)\n",
    "* Circumstances (*on the weekend*, *in Australia*)\n",
    "\n",
    "Mood features of a language include:\n",
    "\n",
    "* Mood types (*declarative, interrogative, imperative*)\n",
    "* Modality (*would, can, might*)\n",
    "* Lexical density&mdash;the number of words per clause, the number of content to non-content words, etc.\n",
    "\n",
    "Lexical density is usually a good indicator of the general tone of texts. The language of academia, for example, often has a huge number of nouns to verbs. We can approximate an academic tone simply by making nominally dense clauses: \n",
    "\n",
    "      The consideration of interest is the potential for a participant of a certain demographic to be in Group A or Group B*.\n",
    "\n",
    "Notice how not only are there many nouns (*consideration*, *interest*, *potential*, etc.), but that the verbs are very simple (*is*, *to be*).\n",
    "\n",
    "In comparison, informal speech is characterised by smaller clauses, and thus more verbs.\n",
    "\n",
    "      A: Did you feel like dropping by?\n",
    "      B: I thought I did, but now I don't think I want to\n",
    "\n",
    "Here, we have only a few, simple nouns (*you*, *I*), with more expressive verbs (*feel*, *dropping by*, *think*, *want*)\n",
    "\n",
    "> **Note**: SFL argues that through *grammatical metaphor*, one linguistic feature can stand in for another. *Would you please shut the door?* is an interrogative, but it functions as a command. *invitation* is a nominalisation of a process, *invite*. We don't have time to deal with these kinds of realisations, unfortunately."
   ]
  },
  {
   "cell_type": "markdown",
   "metadata": {},
   "source": [
    "### Functional roles of *risk* in the NYT"
   ]
  },
  {
   "cell_type": "markdown",
   "metadata": {},
   "source": [
    "> *A discourse analysis that is not based on grammar is not an analysis at all, but simply a running commentary on a text.* - [M.A.K. Halliday, 1994]()\n",
    "\n",
    "Our analysis proceeded according to the description of the transitivity system in *systemic functional grammar* ([SFG: see Halliday & Matthiessen, 2004](#ref:hallmat)).\n",
    "\n",
    "The main elements of the transitivity system are *participants* (the arguments of main verbs) and *processes* (the verbal group). Broadly speaking, processes can be modified by circumstances (adverbs and prepositional phrases, and participants can be modified through epithets, classifiers (determiners, adjectives, etc).\n",
    "\n",
    "> This is an oversimplification, of course. Grab a copy of the [*Introduction to Functional Grammar*](http://www.tandfebooks.com/isbn/9780203783771) to find out more.\n",
    "\n",
    "Risk words can potentially be participants, processes or modifiers.\n",
    "\n",
    "*Risk-as-participant*: any nominal argument of a process that is headed by a risk word. *Examples*:\n",
    "\n",
    "* *the big risk*\n",
    "* *considerable risk*\n",
    "* *the risk of cancer*\n",
    "* *risk-management*\n",
    "\n",
    "*Risk-as-process*: risk word as the rightmost component of a VP. **Examples**:\n",
    "\n",
    "* *he risked his life*\n",
    "* *the company could potentially risk it*\n",
    "\n",
    "*Risk-as-modifier*: any risk word that modifies a participant or process. This includes many adjectival risk words and many risk words appearing within prepositional or adverbial phrases. **Examples**:\n",
    "\n",
    "* *the chance of risk*\n",
    "* *risky business*\n",
    "* *they riskily arranged to meet*\n",
    "\n",
    "To find the distributions of these, we define three (very long and complicated) Tregex queries as sublists of titles and patterns under *query*. We then loop through each entry in *query* to perform an interrogation.\n",
    "\n",
    "We then run `interrogator()` for each query and plot the results:"
   ]
  },
  {
   "cell_type": "code",
   "execution_count": null,
   "metadata": {
    "collapsed": false
   },
   "outputs": [],
   "source": [
    "query = (['Participant', r'/(?i).?\\brisk.?/ > (/NN.?/ >># (NP !> PP !> (VP <<# (/VB.?/ < '\n",
    "        '/(?i)\\b(take|takes|taking|took|taken|run|runs|running|ran|pose|poses|posed|posing)\\b/)))) | >># (ADJP > VP)'], \n",
    "    ['Process', r'VP !> VP << (/VB.?/ < /(?i).?\\brisk.?/) | > VP <+(VP) (/VB.?/ < '\n",
    "        '/(?i)(take|taking|takes|taken|took|run|running|runs|ran|put|putting|puts|pose|poses|posed|posing)/'\n",
    "        '>># (VP < (NP <<# (/NN.?/ < /(?i).?\\brisk.?/))))'], \n",
    "    ['Modifier', r'/(?i).?\\brisk.?/ !> (/NN.?/ >># (NP !> PP !> (VP <<# (/VB.?/ < '\n",
    "        '/(?i)\\b(take|takes|taking|took|taken|run|runs|running|ran|pose|poses|posed|posing)\\b/)))) & !>># '\n",
    "        '(ADJP > VP) & !> (/VB.?/ >># VP) & !> (/NN.?/ >># (NP > (VP <<# (/VB.?/ < /(?i)\\b('\n",
    "            'take|takes|taking|took|taken|run|runs|running|ran|pose|poses|posed|posing)\\b/))))'])\n",
    "results = []\n",
    "for name, pattern in query:\n",
    "    result = interrogator(annual_trees, '-C', pattern)\n",
    "    result.totals[0] = name # rename count\n",
    "    results.append(result.totals)\n",
    "outputnames = collections.namedtuple('functional_role', ['query', 'results'])\n",
    "functional_role = outputnames(query, results)"
   ]
  },
  {
   "cell_type": "code",
   "execution_count": null,
   "metadata": {
    "collapsed": false
   },
   "outputs": [],
   "source": [
    "plotter('Risk as participant, process and modifier', functional_role.results, fract_of = allwords.totals)\n",
    "\n",
    "# uncomment the line below to project 1963 by 5, rather than 4.\n",
    "#plotter('Risk as participant, process and modifier', functional_role.results, proj63 = 5)"
   ]
  },
  {
   "cell_type": "markdown",
   "metadata": {},
   "source": [
    "Here we can see that modifier forms are become more frequent over time, and have overtaken risk processes. Later, we determine which modifier forms in particular are becoming more common."
   ]
  },
  {
   "cell_type": "code",
   "execution_count": null,
   "metadata": {
    "collapsed": false
   },
   "outputs": [],
   "source": [
    "# Perhaps you want to see the result without 1963?\n",
    "plotter('Risk as participant, process and modifier', functional_role.results, fract_of = allwords.totals, skip63 = True)"
   ]
  },
  {
   "cell_type": "markdown",
   "metadata": {},
   "source": [
    "### Risk as participant"
   ]
  },
  {
   "cell_type": "markdown",
   "metadata": {},
   "source": [
    "> *You shall know a word by the company it keeps.* - [J.R. Firth, 1957](#ref:firth)\n",
    "\n",
    "Functionally, *risk* is most commonly a participant in the NYT. This gives us a lot of potential areas of interest. We'll go through a few here, but there are plenty of other things that we have to leave out for reasons of space."
   ]
  },
  {
   "cell_type": "markdown",
   "metadata": {},
   "source": [
    "### Process types for participant risk"
   ]
  },
  {
   "cell_type": "markdown",
   "metadata": {},
   "source": [
    "Here, we need to import verbose regular expressions that match any relational, verbal or mental process."
   ]
  },
  {
   "cell_type": "code",
   "execution_count": null,
   "metadata": {
    "collapsed": false
   },
   "outputs": [],
   "source": [
    "from data.dictionaries.process_types import processes\n",
    "print processes.relational\n",
    "print processes.verbal"
   ]
  },
  {
   "cell_type": "markdown",
   "metadata": {},
   "source": [
    "We can use these in our Tregex queries to look for the kinds of processes participant risks are involved in. First, let's get a count for all processes with risk participants:"
   ]
  },
  {
   "cell_type": "code",
   "execution_count": null,
   "metadata": {
    "collapsed": false
   },
   "outputs": [],
   "source": [
    "# get total number of processes with risk participant\n",
    "query = r'/VB.?/ ># (VP ( < (NP <<# /(?i).?\\brisk.?/) | >+(/.P$/) (VP $ (NP <<# /(?i).?\\brisk.?/))))'\n",
    "proc_w_risk_part = interrogator(annual_trees, '-C', query)"
   ]
  },
  {
   "cell_type": "markdown",
   "metadata": {},
   "source": [
    "### Relational processes with risk participant"
   ]
  },
  {
   "cell_type": "code",
   "execution_count": null,
   "metadata": {
    "collapsed": false
   },
   "outputs": [],
   "source": [
    "# relational\n",
    "# subj_query = r'/VB.?/ < %s ># (VP >+(/.P$/) (VP $ (NP <<# /(?i).?\\brisk.?/)))' % processes.relational\n",
    "# obj_query = r'/VB.?/ < %s ># (VP < (NP <<# /(?i).?\\brisk.?/))'  % processes.relational\n",
    "query = r'/VB.?/ < /%s/ ># (VP ( < (NP <<# /(?i).?\\brisk.?/) | >+(/.P$/) (VP $ (NP <<# /(?i).?\\brisk.?/))))' % processes.relational\n",
    "relationals = interrogator(annual_trees, '-t', query, lemmatise = True)"
   ]
  },
  {
   "cell_type": "code",
   "execution_count": null,
   "metadata": {
    "collapsed": false
   },
   "outputs": [],
   "source": [
    "plotter('Relational processes', relationals.results, fract_of = proc_w_risk_part.totals)"
   ]
  },
  {
   "cell_type": "markdown",
   "metadata": {},
   "source": [
    "We can also use relational processes to find out the things to which risk is related:"
   ]
  },
  {
   "cell_type": "code",
   "execution_count": null,
   "metadata": {
    "collapsed": false
   },
   "outputs": [],
   "source": [
    "query = r'/JJ.?/ ># (ADJP > (VP <<# /%s/ >+(/.P$/) (VP $ (NP <<# /(?i).?\\brisk.?/))))' % processes.relational\n",
    "adj_vals = interrogator(annual_trees, '-t', query, lemmatise = True)"
   ]
  },
  {
   "cell_type": "code",
   "execution_count": null,
   "metadata": {
    "collapsed": false
   },
   "outputs": [],
   "source": [
    "query = r'/NN.?/ ># (NP > (VP <<# /%s/ >+(/.P$/) (VP $ (NP <<# /(?i).?\\brisk.?/))))' % processes.relational\n",
    "noun_vals = interrogator(annual_trees, '-t', query, lemmatise = True)"
   ]
  },
  {
   "cell_type": "code",
   "execution_count": null,
   "metadata": {
    "collapsed": false
   },
   "outputs": [],
   "source": [
    "plotter('Adjectival risk values', adj_vals, fract_of = adj_vals.totals)\n",
    "plotter('Nominal risk values', noun_vals, fract_of = noun_vals.totals)"
   ]
  },
  {
   "cell_type": "markdown",
   "metadata": {},
   "source": [
    "### Mental processes with risk participant"
   ]
  },
  {
   "cell_type": "code",
   "execution_count": null,
   "metadata": {
    "collapsed": false
   },
   "outputs": [],
   "source": [
    "# mental\n",
    "query = r'/VB.?/ < /%s/ ># (VP ( < (NP <<# /(?i).?\\brisk.?/) | >+(/.P$/) (VP $ (NP <<# /(?i).?\\brisk.?/))))' % processes.mental\n",
    "mentals = interrogator(annual_trees, '-t', query, lemmatise = True)"
   ]
  },
  {
   "cell_type": "code",
   "execution_count": null,
   "metadata": {
    "collapsed": false
   },
   "outputs": [],
   "source": [
    "plotter('mental processes', mentals.results, fract_of = proc_w_risk_part.totals)"
   ]
  },
  {
   "cell_type": "markdown",
   "metadata": {},
   "source": [
    "### Verbal processes with risk participant"
   ]
  },
  {
   "cell_type": "code",
   "execution_count": null,
   "metadata": {
    "collapsed": false
   },
   "outputs": [],
   "source": [
    "#verbal\n",
    "query = r'/VB.?/ < /%s/ ># (VP ( < (NP <<# /(?i).?\\brisk.?/) | >+(/.P$/) (VP $ (NP <<# /(?i).?\\brisk.?/))))' % processes.verbal\n",
    "verbals = interrogator(annual_trees, '-t', query, lemmatise = True)"
   ]
  },
  {
   "cell_type": "code",
   "execution_count": null,
   "metadata": {
    "collapsed": false
   },
   "outputs": [],
   "source": [
    "plotter('Verbal processes', verbals.results, fract_of = proc_w_risk_part.totals)"
   ]
  },
  {
   "cell_type": "markdown",
   "metadata": {},
   "source": [
    "### Material processes with risk participant"
   ]
  },
  {
   "cell_type": "code",
   "execution_count": null,
   "metadata": {
    "collapsed": false
   },
   "outputs": [],
   "source": [
    "# material: none of the others\n",
    "query = r'/VB.?/ !< /%s/ !< /%s/ !< /%s/ ># (VP ( < (NP <<# /(?i).?\\brisk.?/) | >+(/.P$/) (VP $ (NP <<# /(?i).?\\brisk.?/))))' % (processes.relational, processes.verbal, processes.mental)\n",
    "materials = interrogator(annual_trees, '-t', query, lemmatise = True)"
   ]
  },
  {
   "cell_type": "code",
   "execution_count": null,
   "metadata": {
    "collapsed": false
   },
   "outputs": [],
   "source": [
    "plotter('Material processes', materials.results, fract_of = proc_w_risk_part.totals)"
   ]
  },
  {
   "cell_type": "markdown",
   "metadata": {},
   "source": [
    "The final thing we can do is calculate the relative frequency of each process type:"
   ]
  },
  {
   "cell_type": "code",
   "execution_count": null,
   "metadata": {
    "collapsed": false
   },
   "outputs": [],
   "source": [
    "proc_types = []\n",
    "for name, result in [['Relational processes', relationals.totals], \n",
    "          ['Mental processes', mentals.totals], ['Verbal processes', verbals.totals]]:\n",
    "    result[0] = name # rename count\n",
    "    proc_types.append(result)"
   ]
  },
  {
   "cell_type": "code",
   "execution_count": null,
   "metadata": {
    "collapsed": false
   },
   "outputs": [],
   "source": [
    "plotter('Distribution of three process types', proc_types, fract_of = proc_w_risk_part.totals)"
   ]
  },
  {
   "cell_type": "markdown",
   "metadata": {},
   "source": [
    "### Adjectives modifying risk"
   ]
  },
  {
   "cell_type": "markdown",
   "metadata": {},
   "source": [
    "First, we can look at adjectives that modify a participant risk."
   ]
  },
  {
   "cell_type": "code",
   "execution_count": null,
   "metadata": {
    "collapsed": false
   },
   "outputs": [],
   "source": [
    "query = r'/JJ.?/ > (NP <<# /(?i).?\\brisk.?/ ( > VP | $ VP))'\n",
    "adj_modifiers = interrogator(annual_trees, '-t', query, lemmatise = True)"
   ]
  },
  {
   "cell_type": "code",
   "execution_count": null,
   "metadata": {
    "collapsed": false
   },
   "outputs": [],
   "source": [
    "# Adjectives modifying nominal risk (lemmatised)\n",
    "plotter('Adjectives modifying nominal risk (lemmatised)', adj_modifiers.results, \n",
    "    fract_of = adj_modifiers.totals, num_to_plot = 7)"
   ]
  },
  {
   "cell_type": "markdown",
   "metadata": {},
   "source": [
    "Yuck! That doesn't tell us much. Let's try visualising the data in a few different ways. First, let's see what the top results look like..."
   ]
  },
  {
   "cell_type": "code",
   "execution_count": null,
   "metadata": {
    "collapsed": false
   },
   "outputs": [],
   "source": [
    "quickview(adj_modifiers.results)"
   ]
  },
  {
   "cell_type": "markdown",
   "metadata": {},
   "source": [
    "OK, here are some ideas:"
   ]
  },
  {
   "cell_type": "code",
   "execution_count": null,
   "metadata": {
    "collapsed": false
   },
   "outputs": [],
   "source": [
    "# remove words with five or more letters\n",
    "small_adjs = surgeon(adj_modifiers.results, r'.{5,}', remove = True)\n",
    "plotter('Adjectives modifying nominal risk (lemmatised)', small_adjs, \n",
    "    fract_of = adj_modifiers.totals, num_to_plot = 6, skip63 = True)\n",
    "\n",
    "#get results with seven or more letters\n",
    "big_adjs = surgeon(adj_modifiers.results, r'.{10,}')\n",
    "plotter('Adjectives modifying nominal risk (lemmatised)', big_adjs, \n",
    "    fract_of = adj_modifiers.totals, num_to_plot = 4, skip63 = True)\n",
    "\n",
    "#get a few interesting points\n",
    "select_adjs = surgeon(adj_modifiers.results, r'\\b(more|potential|calculated|high)\\b')\n",
    "plotter('Adjectives modifying nominal risk (lemmatised)', select_adjs, \n",
    "    num_to_plot = 4)"
   ]
  },
  {
   "cell_type": "markdown",
   "metadata": {},
   "source": [
    "Wow! What's happening with *calculated risk* in 1963? Let's modify the original Tregex query a little and use `conc()` to find out."
   ]
  },
  {
   "cell_type": "code",
   "execution_count": null,
   "metadata": {
    "collapsed": false
   },
   "outputs": [],
   "source": [
    "### old query: r'/JJ.?/ > (NP <<# /(?i).?\\brisk.?/ ( > VP | $ VP))'\n",
    "calculated_risk = r'/JJ.?/ < /(?i)calculated/> (NP <<# /(?i).?\\brisk.?/ ( > VP | $ VP))'\n",
    "# remove '( > VP | $ VP)' from the line above to get more instances\n",
    "conc('data/nyt/years/1963', calculated_risk)"
   ]
  },
  {
   "cell_type": "markdown",
   "metadata": {},
   "source": [
    "### Risk of ... ?"
   ]
  },
  {
   "cell_type": "markdown",
   "metadata": {},
   "source": [
    "Next, we'll look at risk of (noun) constructions, as in:"
   ]
  },
  {
   "cell_type": "code",
   "execution_count": null,
   "metadata": {
    "collapsed": false
   },
   "outputs": [],
   "source": [
    "lines = conc('data/nyt/years/1988', r'/NN.?/ >># (NP > (PP <<# /(?i)of/ > (NP <<# (/NN.?/ < /(?i).?\\brisk.?/))))')\n",
    "for line in lines[:20]:\n",
    "    print line"
   ]
  },
  {
   "cell_type": "markdown",
   "metadata": {},
   "source": [
    "Notice that singular and plural forms may be in the results: both *substance* and *substances* are returned, and would be counted as unique items.\n",
    "\n",
    "If we want to ignore the difference between singular and plural (or different inflections of a verb), we need to use a `lemmatiser*. Luckily, *interrogator()` has one built in.\n",
    "\n",
    "When lemmatisation is necessary, we can pass a `lemmatise = True` parameter to `interrogator()`.\n",
    "\n",
    "Lemmatisation requires knowing the part of speech of the input. `interrogator()` determines this by looking at the first part of the Tregex query: if it's */JJ.?/*, the lemmatiser will be told that the word is an adjective. If the part of speech cannot be located, noun is used as a default. You can also manually pass a tag to the lemmatiser with a *lemmatag = 'n/v/r/a'* option."
   ]
  },
  {
   "cell_type": "code",
   "execution_count": null,
   "metadata": {
    "collapsed": false
   },
   "outputs": [],
   "source": [
    "# Risk of (noun)\n",
    "query = r'/NN.?/ >># (NP > (PP <<# /(?i)of/ > (NP <<# (/NN.?/ < /(?i).?\\brisk.?/))))'\n",
    "risk_of = interrogator(annual_trees, '-t', query, lemmatise = True)"
   ]
  },
  {
   "cell_type": "code",
   "execution_count": null,
   "metadata": {
    "collapsed": false
   },
   "outputs": [],
   "source": [
    "plotter('Risk of (noun)', risk_of.results, fract_of = risk_of.totals)\n",
    "plotter('Risk of (noun)', risk_of.results, fract_of = risk_of.totals, yearspan = [1999,2013])"
   ]
  },
  {
   "cell_type": "markdown",
   "metadata": {},
   "source": [
    "### A cautionary tale ..."
   ]
  },
  {
   "cell_type": "markdown",
   "metadata": {},
   "source": [
    "At one point in our investigation, we looked specifically for military risks. From these results, we saw that *risk of attack* and *risk of war* were common. So, we plotted them:"
   ]
  },
  {
   "cell_type": "code",
   "execution_count": null,
   "metadata": {
    "collapsed": false
   },
   "outputs": [],
   "source": [
    "quickview(risk_of.results, n = 10)"
   ]
  },
  {
   "cell_type": "code",
   "execution_count": null,
   "metadata": {
    "collapsed": false
   },
   "outputs": [],
   "source": [
    "military = surgeon(risk_of.results, [2, 7])\n",
    "plotter('Risk of (noun)', military, fract_of = risk_of.totals) "
   ]
  },
  {
   "cell_type": "markdown",
   "metadata": {},
   "source": [
    " We thought it was interesting how *risk of attack* rose in frequency shortly after 9/11. So, we decided to look more closely at *risk of attack*:"
   ]
  },
  {
   "cell_type": "code",
   "execution_count": null,
   "metadata": {
    "collapsed": false
   },
   "outputs": [],
   "source": [
    "attackrisk = r'/NN.?/ < /(?i)attack.?/ >># (NP > (PP <<# /(?i)of/ > (NP <<# (/NN.?/ < /(?i).?\\brisk.?/))))'\n",
    "conc('data/nyt/years/2004', attackrisk, n = 15, random = True, window = 30) "
   ]
  },
  {
   "cell_type": "markdown",
   "metadata": {},
   "source": [
    "Whoops. We were wrong. Almost all occurrences actually referred to *heart attack*!"
   ]
  },
  {
   "cell_type": "code",
   "execution_count": null,
   "metadata": {
    "collapsed": false
   },
   "outputs": [],
   "source": [
    "query = (['Risk of heart attack', r'/NN.?/ < /(?i)attack.?/ $ '\n",
    "          r'(/NN.?/ < /(?i)heart\\b/) >># (NP > (PP <<# /(?i)of/ > (NP <<# (/NN.?/ < /(?i).?\\brisk.?/))))'], \n",
    "              ['Risk of terror* attack', r'/NN.?/ < /(?i)attack.?/ $ (/NN.?/ < /(?i)terror.?/) >># (NP > (PP '\n",
    "          r'<<# /(?i)of/ > (NP <<# (/NN.?/ < /(?i).?\\brisk.?/))))'])\n",
    "results = []\n",
    "for name, pattern in query:\n",
    "    result = interrogator(annual_trees, '-C', pattern)\n",
    "    result.totals[0] = name # rename count\n",
    "    results.append(result.totals)\n",
    "outputnames = collections.namedtuple('heart_terror', ['query', 'results'])\n",
    "heart_terror = outputnames(query, results)"
   ]
  },
  {
   "cell_type": "code",
   "execution_count": null,
   "metadata": {
    "collapsed": false
   },
   "outputs": [],
   "source": [
    "tally(heart_terror.results, [0, 1])\n",
    "plotter('Risk of heart and terror* attack', heart_terror.results, skip63 = True)"
   ]
  },
  {
   "cell_type": "markdown",
   "metadata": {},
   "source": [
    "So, we were a long way off-base. This is an ever-present danger in corpus linguistics. The decontextualisation needed to investigate the lexicogrammar of texts makes it easy to misunderstand (or worse, misrepresent) the data. Though concordancing is one of the oldest tasks in the corpus linguistic playbook, it remains a fundamental one, especially in discourse-analytic investigations.\n",
    "\n",
    "> ... *why did heart attacks become a big deal in 2004, you ask? Stay tuned ...*"
   ]
  },
  {
   "cell_type": "markdown",
   "metadata": {},
   "source": [
    "### Processes in which risk is subject/object"
   ]
  },
  {
   "cell_type": "markdown",
   "metadata": {},
   "source": [
    "Here, we look at the kinds of predicators that occur when risk subject or object. Note that we remove *run/take/pose risk*, as these are actually verbal risks (see below)."
   ]
  },
  {
   "cell_type": "markdown",
   "metadata": {},
   "source": [
    "By navigating parse trees in more complex ways, we can learn the kinds of processes risk as a participant is involved in."
   ]
  },
  {
   "cell_type": "code",
   "execution_count": null,
   "metadata": {
    "collapsed": false
   },
   "outputs": [],
   "source": [
    "query = (r'/VB.?/ !< /(?i)(take|taking|takes|taken|took|run|running|runs|ran|put|putting|puts|pose|poses|posing|posed)/'\n",
    "              r' > (VP ( < (NP <<# (/NN.?/ < /(?i).?\\brisk.?/))) | >+(VP) (VP $ (NP <<# (/NN.?/ < /(?i).?\\brisk.?/))))')\n",
    "predicators = interrogator(annual_trees, '-t', query,\n",
    "    lemmatise = True)\n",
    "# subjectonly = r'./VB.?/ >># (VP >+(VP) (VP !> VP $ (NP <<# (/NN.?/ < /(?i).?\\brisk.?/))))'\n",
    "# objectonly  =  (r'/VB.?/ >># (VP !< (/VB.?/ < /(?i)(take|taking|takes|taken|took|run|running'\n",
    "# '|runs|ran|put|putting|puts|pose|posed|posing|poses)/) $ NP < (NP <<# (/NN.?/ < /(?i).?\\brisk.?/)))')\n",
    "\n",
    "# including take/run/pose/put at:\n",
    "# query = /VB.?/ >># (VP  < (NP <<# (/NN.?/ < /(?i).?\\brisk.?/)))'"
   ]
  },
  {
   "cell_type": "code",
   "execution_count": null,
   "metadata": {
    "collapsed": false
   },
   "outputs": [],
   "source": [
    "# Processes in which risk is subject/object\n",
    "plotter('Processes in which risk is subject or object)', predicators.results, \n",
    "fract_of = predicators.totals, num_to_plot = 7)\n",
    "# skip be\n",
    "plotter('Processes in which risk is subject or object)', predicators.results[1:], \n",
    "fract_of = predicators.totals, num_to_plot = 5, skip63 = False)"
   ]
  },
  {
   "cell_type": "markdown",
   "metadata": {},
   "source": [
    "Interesting! "
   ]
  },
  {
   "cell_type": "markdown",
   "metadata": {},
   "source": [
    "### Risk as process"
   ]
  },
  {
   "cell_type": "markdown",
   "metadata": {},
   "source": [
    "When *risk* is the main verb in a clause (e.g. *don't risk it*), it is the process. There are other kinds of risk processes, however: when risk occurs as the first object argument of certain nouns, it may be classified as a *process-range configuration* (an SFL term). Searching the data reveals four other main kinds of risk process:\n",
    "\n",
    "1. *to take risk*\n",
    "2. *to run risk*\n",
    "3. *to put at risk*\n",
    "4. *to pose a risk*\n",
    "\n",
    "In these cases, the expression is more or less idiomatic, and the main verb carries little semantic weight ([Eggins, 2004](#ref:eggins)). \n",
    "\n",
    "We tracked the relative frequency of each construction over time."
   ]
  },
  {
   "cell_type": "code",
   "execution_count": null,
   "metadata": {
    "collapsed": false
   },
   "outputs": [],
   "source": [
    "query = ([u'risk', r'VP <<# (/VB.?/ < /(?i).?\\brisk.?\\b/)'], \n",
    "    [u'take risk', r'VP <<# (/VB.?/ < /(?i)\\b(take|takes|taking|took|taken)+\\b/) < (NP <<# /(?i).?\\brisk.?\\b/)'], \n",
    "    [u'run risk', r'VP <<# (/VB.?/ < /(?i)\\b(run|runs|running|ran)+\\b/) < (NP <<# /(?i).?\\brisk.?\\b/)'], \n",
    "    [u'put at risk', r'VP <<# /(?i)(put|puts|putting)\\b/ << (PP <<# /(?i)at/ < (NP <<# /(?i).?\\brisk.?/))'], \n",
    "    [u'pose risk', r'VP <<# (/VB.?/ < /(?i)\\b(pose|poses|posed|posing)+\\b/) < (NP <<# /(?i).?\\brisk.?\\b/)'])\n",
    "totalquery = (r'VP (<<# (/VB.?/ < /(?i).?\\brisk.?\\b/) | <<# (/VB.?/ < /(?i)\\b(take|takes|taking|took|taken|run|'\n",
    "    'runs|running|ran)+\\b/) < (NP <<# /(?i).?\\brisk.?\\b/) | <<# /(?i)(put|puts|putting)\\b/ << (PP <<# /(?i)at/'\n",
    "    ' < (NP <<# /(?i).?\\brisk.?/)) | <<# (/VB.?/ < /(?i)\\b(pose|poses|posed|posing)+\\b/) < (NP <<# /(?i).?\\brisk.?\\b/))')\n",
    "results = []\n",
    "for name, pattern in query:\n",
    "    result = interrogator(annual_trees, '-C', pattern)\n",
    "    result.totals[0] = name # rename count\n",
    "    results.append(result.totals)\n",
    "outputnames = collections.namedtuple('processes', ['query', 'results'])\n",
    "processes = outputnames(query, results)"
   ]
  },
  {
   "cell_type": "code",
   "execution_count": null,
   "metadata": {
    "collapsed": false
   },
   "outputs": [],
   "source": [
    "plotter('Risk processes', processes.results)"
   ]
  },
  {
   "cell_type": "markdown",
   "metadata": {},
   "source": [
    "Subordinate processes are often embedded within clauses containing a risk predicator, as in *Obama risks alienating voters*."
   ]
  },
  {
   "cell_type": "code",
   "execution_count": null,
   "metadata": {
    "collapsed": false
   },
   "outputs": [],
   "source": [
    "# to risk losing/being/having etc\n",
    "\n",
    "query = r'VBG >># (VP > (S > (VP <<# (/VB.?/ < /(?i).?\\brisk.?/))))'\n",
    "risk_verbing = interrogator(annual_trees, '-t', query)"
   ]
  },
  {
   "cell_type": "code",
   "execution_count": null,
   "metadata": {
    "collapsed": false
   },
   "outputs": [],
   "source": [
    "plotter('Process as risked thing', risk_verbing.results, \n",
    "    fract_of = risk_verbing.totals, y_label = 'Percentage of all occurrences', \n",
    "    num_to_plot = 7, skip63 = False)"
   ]
  },
  {
   "cell_type": "markdown",
   "metadata": {},
   "source": [
    "In this kind of risk process, the risker is typically a powerful member of society. While this is rather explicit in some cases (it's hard to image that a mechanic would risk alienating his\\slash her apprentice), we can observe that this is the case for less obvious examples, like *to risk becoming*:"
   ]
  },
  {
   "cell_type": "code",
   "execution_count": null,
   "metadata": {
    "collapsed": false
   },
   "outputs": [],
   "source": [
    "conc('data/nyt/years/2013', r'VBG < /(?i)becom/ >># (VP > (S > (VP <<# (/VB.?/ < /(?i).?\\brisk.?/))))', window = 50, n = 15, random = True)"
   ]
  },
  {
   "cell_type": "markdown",
   "metadata": {},
   "source": [
    "### Objects of risk processes"
   ]
  },
  {
   "cell_type": "markdown",
   "metadata": {},
   "source": [
    "We can locate the most common objects of risk processes:"
   ]
  },
  {
   "cell_type": "code",
   "execution_count": null,
   "metadata": {
    "collapsed": false
   },
   "outputs": [],
   "source": [
    "# Objects of risk processes\n",
    "query = r'/NN.?/ >># (NP > (VP <<# (/VB.?/ < /(?i).?\\brisk.?/)))'\n",
    "risk_objects = interrogator(annual_trees, '-t', query, \n",
    "    lemmatise = True, titlefilter = False)"
   ]
  },
  {
   "cell_type": "code",
   "execution_count": null,
   "metadata": {
    "collapsed": false
   },
   "outputs": [],
   "source": [
    "plotter('Objects of risk processes', risk_objects.results, \n",
    "    fract_of = risk_objects.totals, y_label = 'Percentage of all occurrences', skip63 = False)"
   ]
  },
  {
   "cell_type": "markdown",
   "metadata": {},
   "source": [
    "Notice that both the `potential harm* and *risked things* can fit in this position. We can view the most common results and create new lists for risked things/potential harms with *surgeon()`."
   ]
  },
  {
   "cell_type": "code",
   "execution_count": null,
   "metadata": {
    "collapsed": false
   },
   "outputs": [],
   "source": [
    "quickview(risk_objects.results, n = 100)"
   ]
  },
  {
   "cell_type": "code",
   "execution_count": null,
   "metadata": {
    "collapsed": false
   },
   "outputs": [],
   "source": [
    "riskobject_regex = (r'(?i)^\\b(life|everything|money|career|health|reputation|capital|future|'\n",
    "    r'job|safety|possibility|anything|return|neck|nothing|lot|)$\\b')\n",
    "riskedthings = surgeon(risk_objects.results, riskobject_regex, remove = True)\n",
    "potentialharm = surgeon(risk_objects.results, riskobject_regex)\n",
    "plotter('Risked things', potentialharm, num_to_plot = 7, skip63 = False)\n",
    "plotter('Risked things (minus life)', potentialharm[1:], num_to_plot = 3, skip63 = False)\n",
    "plotter('Potential harm', riskedthings, num_to_plot = 7, skip63 = False)"
   ]
  },
  {
   "cell_type": "markdown",
   "metadata": {},
   "source": [
    "It's interesting how powerful people risk losing and alienating electorates, fanbases or contracts, while less powerful people risk their jobs and safety, or their life or neck."
   ]
  },
  {
   "cell_type": "markdown",
   "metadata": {},
   "source": [
    "### Risk as modifier"
   ]
  },
  {
   "cell_type": "markdown",
   "metadata": {},
   "source": [
    "Risk words can serve as modifiers in a number of ways. We divided risk as modifier into five main types."
   ]
  },
  {
   "cell_type": "markdown",
   "metadata": {},
   "source": [
    "| Modifier type | Example  |\n",
    "|---|---|\n",
    "| Adjectival modifiers of participants  |  *the riskiest decision* | \n",
    "| Pre-head nominal modifiers of participants  |  *risk management* | \n",
    "|  Post-head nominal modifiers of participants |  *the money to risk* | \n",
    "| Adverbial modifiers of processes  |  *it riskily moved* | \n",
    "| As head of NP that is head of a cirumstance  | *she was at risk*  | "
   ]
  },
  {
   "cell_type": "code",
   "execution_count": null,
   "metadata": {
    "collapsed": false
   },
   "outputs": [],
   "source": [
    "query = ([u'Adjectival modifier', r'/NN.?/ >># (NP < (/JJ.?/ < /(?i).?\\brisk.?/))'],\n",
    "    [u'Pre-head nominal modifier', r'/NN.?/ < /(?i).?\\brisk.?/ $ (/NN.?/ >># NP !> CC)'], \n",
    "    [u'Post-head modifier', r'/NN.?/ >># (NP < (PP < (NP <<# /(?i).?\\brisk.?/)))'], \n",
    "    [u'Adverbial modifier', r'RB < /(?i).?\\brisk.?/'],\n",
    "    [u'Circumstance head', r'/NN.?/ < /(?i).?\\brisk.?/ >># (NP > (PP > (VP > /\\b(S|SBAR|ROOT)\\b/)))'])\n",
    "results = []\n",
    "for name, pattern in query:\n",
    "    result = interrogator(annual_trees, '-C', pattern)\n",
    "    result.totals[0] = name # rename count\n",
    "    results.append(result.totals)\n",
    "outputnames = collections.namedtuple('modifiers', ['query', 'results'])\n",
    "modifiers = outputnames(query, results)"
   ]
  },
  {
   "cell_type": "code",
   "execution_count": null,
   "metadata": {
    "collapsed": false
   },
   "outputs": [],
   "source": [
    "plotter('Types of risk modifiers', modifiers.results)"
   ]
  },
  {
   "cell_type": "markdown",
   "metadata": {},
   "source": [
    "We pulled out the most common nouns modified by adjectival risk:"
   ]
  },
  {
   "cell_type": "code",
   "execution_count": null,
   "metadata": {
    "collapsed": false
   },
   "outputs": [],
   "source": [
    "# Participants modified by risk word\n",
    "query = r'/NN.?/ >># (NP < (/JJ.?/ < /(?i).?\\brisk.?/) ( > VP | $ VP))'\n",
    "mod_by_adj_risk = interrogator(annual_trees, '-t', query, \n",
    "    lemmatise = True, titlefilter = False)"
   ]
  },
  {
   "cell_type": "code",
   "execution_count": null,
   "metadata": {
    "collapsed": false
   },
   "outputs": [],
   "source": [
    "plotter('Participants modified by risk', mod_by_adj_risk.results, \n",
    "    num_to_plot = 7, skip63 = False)"
   ]
  },
  {
   "cell_type": "markdown",
   "metadata": {},
   "source": [
    "We looked at the most common adjectival risks:"
   ]
  },
  {
   "cell_type": "code",
   "execution_count": null,
   "metadata": {
    "collapsed": false
   },
   "outputs": [],
   "source": [
    "query = r'/JJ.?/ < /(?i).?\\brisk.?/'\n",
    "adjrisks = interrogator(annual_trees, '-t', query, \n",
    "    lemmatise = False)"
   ]
  },
  {
   "cell_type": "code",
   "execution_count": null,
   "metadata": {
    "collapsed": false
   },
   "outputs": [],
   "source": [
    "# remember that we can still plot using all words/all risk words as the fract_of...\n",
    "plotter('Most common adjectival risks', adjrisks.results, fract_of = allwords.totals, \n",
    "    y_label = 'Percentage of all words', num_to_plot = 5, skip63 = False)"
   ]
  },
  {
   "cell_type": "markdown",
   "metadata": {},
   "source": [
    "Given the increasing frequency of at-risk constructions, we then looked at what it is that this modifier typically modifies."
   ]
  },
  {
   "cell_type": "code",
   "execution_count": null,
   "metadata": {
    "collapsed": false
   },
   "outputs": [],
   "source": [
    "# At-risk thing\n",
    "query = r'/NN.?/ >># (NP < (/JJ.?/ < /(?i).?\\bat-risk/) ( > VP | $ VP))'\n",
    "at_risk_things = interrogator(annual_trees, '-t', query, \n",
    "    lemmatise = True)"
   ]
  },
  {
   "cell_type": "code",
   "execution_count": null,
   "metadata": {
    "collapsed": false
   },
   "outputs": [],
   "source": [
    "plotter('At-risk things', at_risk_things.results, \n",
    "    fract_of = at_risk_things.totals, num_to_plot = 7, skip63 = False)"
   ]
  },
  {
   "cell_type": "markdown",
   "metadata": {},
   "source": [
    "The chart below counts both *thing at risk* and *at-risk thing*."
   ]
  },
  {
   "cell_type": "code",
   "execution_count": null,
   "metadata": {
    "collapsed": false
   },
   "outputs": [],
   "source": [
    "# at-risk person / person at risk combined\n",
    "query = r'/NN.?/ ( >># (NP < (PP <<# /(?i)at/ << (NP <<# /(?i)\\brisk.?/))) | ( >># (NP < (/JJ.?/ < /(?i)at-risk.?/))))'\n",
    "n_atrisk_n = interrogator(annual_trees, '-t', query, \n",
    "    lemmatise = False, titlefilter = False)"
   ]
  },
  {
   "cell_type": "code",
   "execution_count": null,
   "metadata": {
    "collapsed": false
   },
   "outputs": [],
   "source": [
    "plotter('At-risk thing or thing at risk', n_atrisk_n.results, num_to_plot = 7, skip63 = False )"
   ]
  },
  {
   "cell_type": "markdown",
   "metadata": {},
   "source": [
    "Vulnerable human populations are the main theme of this category: indeed, it's difficult to imagine *at-risk corporations* or *at-risk leaders*."
   ]
  },
  {
   "cell_type": "markdown",
   "metadata": {},
   "source": [
    "### Proper nouns and risk sentences"
   ]
  },
  {
   "cell_type": "markdown",
   "metadata": {},
   "source": [
    "We searched to find the most common proper noun strings.\n",
    "\n",
    "`interrogator()`'s *titlefilter* option removes common titles, first names and determiners to make for more accurate counts. It is useful when the results being returned are groups/phrases, rather than single words."
   ]
  },
  {
   "cell_type": "code",
   "execution_count": null,
   "metadata": {
    "collapsed": false
   },
   "outputs": [],
   "source": [
    "# Most common proper noun phrases\n",
    "query = r'NP <# NNP >> (ROOT << /(?i).?\\brisk.?\\b/)'\n",
    "propernouns = interrogator(annual_trees, '-t', query, \n",
    "    titlefilter = True)"
   ]
  },
  {
   "cell_type": "code",
   "execution_count": null,
   "metadata": {
    "collapsed": false
   },
   "outputs": [],
   "source": [
    "plotter('Most common proper noun phrases', propernouns.results, fract_of = propernouns.totals)"
   ]
  },
  {
   "cell_type": "code",
   "execution_count": null,
   "metadata": {
    "collapsed": false
   },
   "outputs": [],
   "source": [
    "quickview(propernouns.results, n = 200)"
   ]
  },
  {
   "cell_type": "markdown",
   "metadata": {},
   "source": [
    "Notice that there are a few entries here that refer to the same group. (f.d.a and food and drug administration, for example). We can use `merger()` to fix these."
   ]
  },
  {
   "cell_type": "code",
   "execution_count": null,
   "metadata": {
    "collapsed": false
   },
   "outputs": [],
   "source": [
    "# indices change after merger, remember, so\n",
    "# make sure you quickview results after every merge.\n",
    "merged_propernouns = merger(propernouns.results, [13, 20])\n",
    "merged_propernouns = merger(merged_propernouns, [8, 32])\n",
    "merged_propernouns = merger(merged_propernouns, [42, 107])\n",
    "merged_propernouns = merger(merged_propernouns, [60, 111])\n",
    "merged_propernouns = merger(merged_propernouns, [183, 197])\n",
    "merged_propernouns = merger(merged_propernouns, [65, 127])\n",
    "merged_propernouns = merger(merged_propernouns, [84, 149], newname = 149)\n",
    "merged_propernouns = merger(merged_propernouns, [23, 130])\n",
    "quickview(merged_propernouns, n = 200)"
   ]
  },
  {
   "cell_type": "markdown",
   "metadata": {},
   "source": [
    "Now that we've merged some common results, we can use `surgeon()` to build some basic thematic categories."
   ]
  },
  {
   "cell_type": "code",
   "execution_count": null,
   "metadata": {
    "collapsed": false
   },
   "outputs": [],
   "source": [
    "# make some new thematic lists\n",
    "people = surgeon(merged_propernouns, r'(?i)^\\b(bush|clinton|obama|greenspan|gore|johnson|mccain|romney'\n",
    "    r'|kennedy|giuliani|reagan)$\\b')\n",
    "nations = surgeon(merged_propernouns, r'(?i)^\\b(iraq|china|america|israel|russia|japan|frace|germany|iran\\\n",
    "|britain|u\\.s\\.|afghanistan|australia|canada|spain|mexico|pakistan|soviet union|india)$\\b')\n",
    "geopol = surgeon(merged_propernouns, r'(?i)^\\b(middle east|asia|europe|america|soviet union|european union)$\\b')\n",
    "#usplaces = surgeon(merged_propernouns, r'(?i)^\\b(new york|washington|wall street|california|manhattan\\\n",
    "#|new york city|new jersey|north korea|italy|greece|bosniaboston|los angeles|broadway|texas)$\\b',\\)\n",
    "companies = surgeon(merged_propernouns, r'(?i)^\\b(merck|avandia\\\n",
    "|citigroup|pfizer|bayer|enron|apple|microsoft|empire)$\\b')\n",
    "organisations = surgeon(merged_propernouns, r'(?i)^\\b((white house|congress|federal reserve|nasa|pentagon)\\b|'\n",
    "    r'f\\.d\\.a\\.|c\\.i\\.a\\.|f\\.b\\.i\\.|e\\.p\\.a\\.)$')\n",
    "medical = surgeon(merged_propernouns, r'(?i)^\\b(vioxx|aids|celebrex|f.d.a)\\b')\n",
    "balkan = surgeon(merged_propernouns, r'(?i)^(balkan|yugoslav|milos|serbia|croatia|bosnia|kosovo|nato)$')\n",
    "# geopol[5][0] == u'e.u.'"
   ]
  },
  {
   "cell_type": "code",
   "execution_count": null,
   "metadata": {
    "collapsed": false
   },
   "outputs": [],
   "source": [
    "# plot some results\n",
    "plotter('People', people, fract_of = propernouns.totals, \n",
    "        y_label = 'Percentage of all proper noun groups', skip63 = True)\n",
    "\n",
    "plotter('Nations', nations, fract_of = propernouns.totals, \n",
    "        y_label = 'Percentage of all proper noun groups', skip63 = True)\n",
    "\n",
    "plotter('Geopolitical entities', geopol, fract_of = propernouns.totals,  \n",
    "        y_label = 'Percentage of all proper noun groups', skip63 = False)\n",
    "\n",
    "plotter('Companies', companies, fract_of = propernouns.totals, \n",
    "        y_label = 'Percentage of all proper noun groups', skip63 = True)\n",
    "\n",
    "plotter('Organisations', organisations, fract_of = propernouns.totals, \n",
    "        y_label = 'Percentage of all proper noun groups', skip63 = True)\n",
    "\n",
    "plotter('Medicine', medical, fract_of = propernouns.totals, num_to_plot = 4,\n",
    "        y_label = 'Percentage of all proper noun groups', skip63 = True, save = True, figsize = 15)\n",
    "\n",
    "plotter('Balkan Wars', balkan, num_to_plot = 12,\n",
    "        y_label = 'Absolute frequency', skip63 = True, yearspan = [1989, 2001])"
   ]
  },
  {
   "cell_type": "markdown",
   "metadata": {},
   "source": [
    "These charts reveal some interesting patterns.\n",
    "\n",
    "* We can clearly see presidencies and rival candidates come and go\n",
    "* Similarly, the wars in Iraq and Afghanistan are easy to spot\n",
    "* Naturally, the Soviet Union is a very frequent topic in 1963. It rises in frequency until its collapse. More recently, Russia can be seen as more frequently co-occurring with risk words.\n",
    "* The Eurozone crisis is visible\n",
    "* From the Organisations and Things, we can see the appearance of Merck and Vioxx in 2004, as well as Empire..."
   ]
  },
  {
   "cell_type": "code",
   "execution_count": null,
   "metadata": {
    "collapsed": false
   },
   "outputs": [],
   "source": [
    "vioxx = surgeon(propernouns.results, r'(?i)^\\b(vioxx|merck)\\b$')\n",
    "plotter('Merck and Vioxx', vioxx, fract_of = propernouns.totals, skip63 = True)\n",
    "plotter('Merck and Vioxx', vioxx, fract_of = propernouns.totals, yearspan = [1998,2012])"
   ]
  },
  {
   "cell_type": "markdown",
   "metadata": {},
   "source": [
    "Vioxx was removed from shelves following the discovery that it increased the risk of heart attack. It's interesting how even though terrorism and war may come to mind when thinking of *risk* in the past 15 years, this health topic is easily more prominent in the data."
   ]
  },
  {
   "cell_type": "markdown",
   "metadata": {},
   "source": [
    "### Arguability"
   ]
  },
  {
   "cell_type": "markdown",
   "metadata": {},
   "source": [
    "In terms of interpersonal meanings, we were interested in the *arguability* of risk: that is, the extent to which risk words are a core or peripheral part of the meaning being negotiated by writer and reader.\n",
    "\n",
    "In SFL, arguability is related to the mood system. Certain roles within the mood of a clause are more arguable than others. In a hypothetical exchange, we can see that certain parts of the proposition can be easily questioned:\n",
    "\n",
    "     A: I think Kim was heading over to the little pub on the corner.\n",
    "     B1: Was he?\n",
    "\n",
    "The two grammatical roles being restated here are the Subject (*he*) and the Finite (*was*). These are the two most arguable roles in which a risk word could appear.\n",
    "\n",
    "If the speaker wanted to argue about the size of the pub, simple replies seem almost like *non sequiturs*:\n",
    "\n",
    "     A: I think Kim was heading over to the little pub on the corner.\n",
    "     B: It's not that little!\n",
    "\n",
    "Note how even in this stylistically marked example, B turns the pub and its nature into the Subject and Finite, in order to make it the main area of contention within the conversation.\n",
    "\n",
    "Using SFL's description of the mood system as a guide, we constructed a basic (i.e. simplified) scale of arguability.\n",
    "\n",
    "| Role in the mood system | Arguability |\n",
    "| ----------------------- | ----------- |\n",
    "| Subject                 | Very high   |\n",
    "| Finite                  | High        |\n",
    "| Predicator                  | Medium        |\n",
    "| Complement              | Low      |\n",
    "| Adjunct                 | Very low         |"
   ]
  },
  {
   "cell_type": "markdown",
   "metadata": {},
   "source": [
    "### Arguability of risk"
   ]
  },
  {
   "cell_type": "markdown",
   "metadata": {},
   "source": [
    "We were interested in whether there are any longitudinal changes in the proportion of risk words in each mood role. \n",
    "\n",
    "For this, rather than interrogating phrase-structure parses, we needed to interrogate dependency parses, which provide basic information about the functional role of a word in a clause. By default, the parser we used (Stanford CoreNLP) outputs three different dependency grammars. Any of the three can be selected for analysis.\n",
    "\n",
    "`dependencies()` is a function that parses the dependency output provided by CoreNLP.\n",
    "\n",
    "It takes five arguments:\n",
    "\n",
    "1. a path to the corpus\n",
    "2. A search option: *'funct'*, *'depnum'* or *'govrole'*\n",
    "3. a regular expression to, match a token (in our case, to match a risk word)\n",
    "4. the kind of dependencies parses we want to search: *'basic-dependencies'*, '*collapsed-dependencies'*, or *'collapsed-ccprocessed-dependencies'*.\n",
    "5. lemmatise = *True/False*\n",
    "\n",
    "With regard to (2): the three search options give different kinds of information about the matched tokens:\n",
    "\n",
    "* 'funct' gets the functional role only\n",
    "'govrole' gets the function and the governor (which can be lemmatised)\n",
    "'depnum' gets the index of the word within the dependency parse\n",
    "\n",
    "We were interested in each of these three kinds of dependency information.\n",
    "\n",
    "With regard to (4): though the *collapsed-cc-dependencies* are perhaps the most commonly used, we use basic dependencies here, as this assisted the lemmatisation process (see the report for more information)."
   ]
  },
  {
   "cell_type": "markdown",
   "metadata": {},
   "source": [
    "### Functional role of risk in dependency parses"
   ]
  },
  {
   "cell_type": "code",
   "execution_count": null,
   "metadata": {
    "collapsed": false
   },
   "outputs": [],
   "source": [
    "# set path to dependency parses\n",
    "annual_deps = 'data/nyt/basic-dependencies/years'"
   ]
  },
  {
   "cell_type": "code",
   "execution_count": null,
   "metadata": {
    "collapsed": false
   },
   "outputs": [],
   "source": [
    "risk_functions = dependencies(annual_deps, 'funct', r'(?i)\\brisk', dep_type = 'basic-dependencies')"
   ]
  },
  {
   "cell_type": "code",
   "execution_count": null,
   "metadata": {
    "collapsed": false
   },
   "outputs": [],
   "source": [
    "plotter('Top functions of risk words', risk_functions.results, fract_of = risk_functions.totals)"
   ]
  },
  {
   "cell_type": "markdown",
   "metadata": {},
   "source": [
    "We can divide these functions into experiential categories of Participant, Process and Modifier"
   ]
  },
  {
   "cell_type": "code",
   "execution_count": null,
   "metadata": {
    "collapsed": false
   },
   "outputs": [],
   "source": [
    "merged = merger(risk_functions.results, [1, 2, 10, 18, 17, 20, 24], newname = 'Participant')\n",
    "merged = merger(merged.results, [5, 6, 7, 11, 20, 22], newname = 'Process')\n",
    "merged = merger(merged.results, [1, 4, 5, 8, 9, 12, 13, 14, 17], newname = 'Modifier')\n",
    "\n",
    "merging = merger(risk_functions.results, r'^(dobj|nsubj|nsubjpass|csubj|acomp|iobj|csubjpass)$', newname = 'Participant')\n",
    "merged = merger(merged.results, r'^(root|ccomp|xcomp|pcomp|auxpass|aux)$', newname = 'Process')\n",
    "\n",
    "merged = merger(merged.results, [1, 4, 5, 8, 9, 12, 13, 14, 17], newname = 'Modifier')\n",
    "\n",
    "\n",
    "^(pobj|nn|amod|rcmod|vmod|tmod|npadvmod|advmod)$"
   ]
  },
  {
   "cell_type": "markdown",
   "metadata": {},
   "source": [
    "We can also use this information to determine whether risk is more commonly the experiential subject or object:"
   ]
  },
  {
   "cell_type": "code",
   "execution_count": null,
   "metadata": {
    "collapsed": false
   },
   "outputs": [],
   "source": [
    "subjobj = surgeon(risk_functions.results, r'^(nsubj|(d|i)obj)', remove = False)\n",
    "mergesub = merger(subjobj, [0, 2, 3], newname = 'Experiential object')\n",
    "mergesub[1][0] = 'Experiential subject'\n",
    "plotter('Experiential subject\\slash object frequency', mergesub, fract_of = risk_functions.totals, save = True)"
   ]
  },
  {
   "cell_type": "markdown",
   "metadata": {},
   "source": [
    "We can also merge results into the categories of Subject, Finite/Predicator, Complement and Adjunct:"
   ]
  },
  {
   "cell_type": "code",
   "execution_count": null,
   "metadata": {
    "collapsed": false
   },
   "outputs": [],
   "source": [
    "quickview(risk_functions.results, n = 30)\n",
    "# quickview(merged_role, n = 30)"
   ]
  },
  {
   "cell_type": "code",
   "execution_count": null,
   "metadata": {
    "collapsed": false
   },
   "outputs": [],
   "source": [
    "# run the first part, uncomment above, check, repeat ...\n",
    "merged_role = merger(risk_functions.results, [2, 10, 18, 24], newname = 'Subject') # add csubj\n",
    "#quickview(merged_role)\n",
    "merged_role = merger(merged_role, [6, 22, 23], newname = 'Finite/Predicator')\n",
    "merged_role = merger(merged_role, [1, 16, 18, 20], newname = 'Complement')\n",
    "merged_role = merger(merged_role, [0, 3, 5, 10, 13, 16, 20], newname = 'Adjunct')"
   ]
  },
  {
   "cell_type": "code",
   "execution_count": null,
   "metadata": {
    "collapsed": false
   },
   "outputs": [],
   "source": [
    "# remove all other items\n",
    "merged_role = surgeon(merged_role, [0, 1, 2, 4], remove = False)"
   ]
  },
  {
   "cell_type": "code",
   "execution_count": null,
   "metadata": {
    "collapsed": false
   },
   "outputs": [],
   "source": [
    "# resort this list:\n",
    "from operator import itemgetter # for more complex sorting\n",
    "to_reorder = list(merged_role)\n",
    "mr_sorted = sorted(list(merged_role), key=itemgetter(1), reverse = True)"
   ]
  },
  {
   "cell_type": "code",
   "execution_count": null,
   "metadata": {
    "collapsed": false
   },
   "outputs": [],
   "source": [
    "plotter('Functional role using dependency parses', merged_role, fract_of = risk_functions.totals)"
   ]
  },
  {
   "cell_type": "markdown",
   "metadata": {},
   "source": [
    "### Role and governor of risk"
   ]
  },
  {
   "cell_type": "code",
   "execution_count": null,
   "metadata": {
    "collapsed": false
   },
   "outputs": [],
   "source": [
    "role_and_gov = dependencies(annual_deps, 'govrole', r'(?i)\\brisk', dep_type = 'basic-dependencies', lemmatise = True)"
   ]
  },
  {
   "cell_type": "code",
   "execution_count": null,
   "metadata": {
    "collapsed": false
   },
   "outputs": [],
   "source": [
    "plotter('Governors of risk and their roles', role_and_gov.results, fract_of = role_and_gov.totals)"
   ]
  },
  {
   "cell_type": "markdown",
   "metadata": {},
   "source": [
    "We can post-process this list in a couple of interesting ways:"
   ]
  },
  {
   "cell_type": "markdown",
   "metadata": {},
   "source": [
    "### Dependency index"
   ]
  },
  {
   "cell_type": "markdown",
   "metadata": {},
   "source": [
    "In a dependency parse, smaller indices will be given to words close to the root of the dependency string. These correspond (roughly) with more arguable roles in SFL. Large indices are more dependent, and are generally less arguable.\n",
    "\n",
    "Thus, we also thought we could roughly approximate arguability by looking for the index of each risk word within each dependency parse."
   ]
  },
  {
   "cell_type": "code",
   "execution_count": null,
   "metadata": {
    "collapsed": false
   },
   "outputs": [],
   "source": [
    "risk_indices = dependencies(annual_deps, 'depnum', r'(?i)\\brisk', dep_type = 'basic-dependencies')"
   ]
  },
  {
   "cell_type": "markdown",
   "metadata": {},
   "source": [
    "Our existing way of plotting results needed to be modified in order to show the information provided by the *depnum* search.\n",
    "\n",
    "alter list here"
   ]
  },
  {
   "cell_type": "code",
   "execution_count": null,
   "metadata": {
    "collapsed": false
   },
   "outputs": [],
   "source": [
    "plotter()"
   ]
  },
  {
   "cell_type": "markdown",
   "metadata": {},
   "source": [
    "### Risk in economics, health and politics articles"
   ]
  },
  {
   "cell_type": "markdown",
   "metadata": {},
   "source": [
    "We used article metadata features in the NYT annotated corpus to build corpora of economics, health and politics articles.\n",
    "\n",
    "> No metadata was available for 1963 editions, and thus they are not plotted in this section."
   ]
  },
  {
   "cell_type": "markdown",
   "metadata": {},
   "source": [
    "Before interrogating topic subcorpora, we built `topix_search()` and `topix_plot()`. These are short functions to interrogate and plot each subcorpus in turn. They have been automatically loaded in with interrogators.ipy in the first cell."
   ]
  },
  {
   "cell_type": "code",
   "execution_count": null,
   "metadata": {
    "collapsed": false
   },
   "outputs": [],
   "source": [
    "# get a list of the economics, health and politics subcorpora\n",
    "trees = 'data/nyt/trees'\n",
    "topic_trees = [d for d in os.listdir(trees)\n",
    "          if os.path.isdir(os.path.join(path,d))\n",
    "          and d != 'years']\n",
    "\n",
    "def topix_search(topic_trees, options, query, **kwargs):\n",
    "    \"\"\"Interrogates each topic subcorpus.\"\"\"\n",
    "    results = [] # make empty list of results and totals\n",
    "    totals = []\n",
    "    for topic in topic_trees: # for topic name\n",
    "        print \"Doing \" + topic + \" ...\"\n",
    "        topic_trees_path = os.path.join(trees,topic) # get topic path\n",
    "        # interrogate with any arguments passed in:\n",
    "        result = interrogator(topic_trees_path, options, query, **kwargs)\n",
    "        results.append(result.results) # add to results\n",
    "        totals.append(result.totals)\n",
    "    # now we should have 3x results and 3x totals, and a query\n",
    "    outputnames = collections.namedtuple('interrogation', ['query', 'results', 'totals'])\n",
    "    query_options = [query, options] \n",
    "    output = outputnames(query_options, results, totals)\n",
    "    return results\n",
    "\n",
    "def topix_plot(title, results, fract_of = False, **kwargs):\n",
    "    \"\"\"Plots results from subcorpus interrogation.\"\"\"\n",
    "    for topic in topic_trees:\n",
    "        newtitle = title + ' in ' + str(topic) + ' articles' # semi-automatic titles (!)\n",
    "        if not fract_of: # if counting ratios/percentages, \n",
    "            plotter(newtitle, results[topic_trees.index(topic)], **kwargs)\n",
    "        else:\n",
    "            plotter(newtitle, results[topic_trees.index(topic)], \n",
    "                    fract_of = fract_of[topic_trees.index(topic)], **kwargs)"
   ]
  },
  {
   "cell_type": "markdown",
   "metadata": {},
   "source": [
    "It's also useful to keep in mind that conc() can loop through subcorpora. Two kinds of loops are presented below."
   ]
  },
  {
   "cell_type": "code",
   "execution_count": null,
   "metadata": {
    "collapsed": false
   },
   "outputs": [],
   "source": [
    "import pprint # nice looking results\n",
    "year_of_interest = '2002'\n",
    "for topic in topic_trees:\n",
    "    lines = conc(os.path.join(trees,topic,year_of_interest), \n",
    "        r'PP < (NP <# (/NN.?/ < /(?i).?\\brisk.?\\b/))', n = 15, random = True)\n",
    "    for line in lines:\n",
    "        print line"
   ]
  },
  {
   "cell_type": "code",
   "execution_count": null,
   "metadata": {
    "collapsed": false
   },
   "outputs": [],
   "source": [
    "topic = 'economics'\n",
    "# note that years here are strings (in quotation marks), rather than integers.\n",
    "years = ['1989', '1990', '1991']\n",
    "for year in years:\n",
    "    lines = conc(os.path.join(trees,topic,year), r'/(?i)risky/', n = 15, random = True, window = 50)\n",
    "    for line in lines:\n",
    "        from line"
   ]
  },
  {
   "cell_type": "markdown",
   "metadata": {},
   "source": [
    "### Proper noun phrases"
   ]
  },
  {
   "cell_type": "code",
   "execution_count": null,
   "metadata": {
    "collapsed": false
   },
   "outputs": [],
   "source": [
    "query = r'NP <# NNP >> (ROOT << /(?i).?\\brisk.?\\b/)'\n",
    "topics_propernouns = topix_search(topic_trees, '-t', query, titlefilter = True)"
   ]
  },
  {
   "cell_type": "markdown",
   "metadata": {},
   "source": [
    "When working with topic subcorpora, you can add an extra argument to `quickview()` to see the first results from each subcorpus:"
   ]
  },
  {
   "cell_type": "code",
   "execution_count": null,
   "metadata": {
    "collapsed": false
   },
   "outputs": [],
   "source": [
    "quickview(topics_propernouns, n = 20, topics = True)"
   ]
  },
  {
   "cell_type": "code",
   "execution_count": null,
   "metadata": {
    "collapsed": false
   },
   "outputs": [],
   "source": [
    "topix_plot('Proper noun phrases', topics_propernouns)"
   ]
  },
  {
   "cell_type": "code",
   "execution_count": null,
   "metadata": {
    "collapsed": false
   },
   "outputs": [],
   "source": [
    "# people in politics articles\n",
    "# note, we just use `interrogator()` and `plotter()`, because we're only interested in a single topic subcorpus.\n",
    "query = r'NP <# NNP >> (ROOT << /(?i).?\\brisk.?\\b/)'\n",
    "propnounphrases = interrogator('nyt/politics', '-t', query, titlefilter = True)"
   ]
  },
  {
   "cell_type": "code",
   "execution_count": null,
   "metadata": {
    "collapsed": false
   },
   "outputs": [],
   "source": [
    "polpeople = surgeon(propnounphrases.results, \n",
    "    r'(?i)\\b(obama|bush|clinton|dole|romney|reagan|carter|ford|mccain|johnson|kennedy|gore)\\b', \n",
    "  )\n",
    "#topix_plot('Proper noun phrases', results)\n",
    "plotter('Politicians in sentences containing a risk word', polpeople)"
   ]
  },
  {
   "cell_type": "markdown",
   "metadata": {},
   "source": [
    "### Adjectives modifying participant risk"
   ]
  },
  {
   "cell_type": "code",
   "execution_count": null,
   "metadata": {
    "collapsed": false
   },
   "outputs": [],
   "source": [
    "query = r'/JJ.?/ > (NP <<# /(?i).?\\brisk.?/ ( > VP | $ VP))'\n",
    "topics_adjmod = topix_search(topic_trees, '-t', query)\n",
    "    "
   ]
  },
  {
   "cell_type": "code",
   "execution_count": null,
   "metadata": {
    "collapsed": false
   },
   "outputs": [],
   "source": [
    "topix_plot('Adjectives modifying participant risk', topics_adjmod)"
   ]
  },
  {
   "cell_type": "markdown",
   "metadata": {},
   "source": [
    "### Risk of (noun)"
   ]
  },
  {
   "cell_type": "code",
   "execution_count": null,
   "metadata": {
    "collapsed": false
   },
   "outputs": [],
   "source": [
    "query = r'/NN.?/ >># (NP > (PP <<# /(?i)of/ > (NP <<# (/NN.?/ < /(?i).?\\brisk.?/))))'\n",
    "topics_riskof = topix_search(topic_trees, '-t', query)"
   ]
  },
  {
   "cell_type": "code",
   "execution_count": null,
   "metadata": {
    "collapsed": false
   },
   "outputs": [],
   "source": [
    "topix_plot('Risk of (noun)', topics_riskof)"
   ]
  },
  {
   "cell_type": "markdown",
   "metadata": {},
   "source": [
    "### Arguability in topic subcorpora"
   ]
  },
  {
   "cell_type": "markdown",
   "metadata": {},
   "source": [
    "We can also look for arguability information using dependency-parsed versions of our topic subcorpora."
   ]
  },
  {
   "cell_type": "markdown",
   "metadata": {},
   "source": [
    "### General queries"
   ]
  },
  {
   "cell_type": "markdown",
   "metadata": {},
   "source": [
    "We also performed some basic querying of all parsed data. Though not discussed in our report, these findings may be interesting in their own right.\n",
    "\n",
    "In the examples below, we use *multiplier = 1*. This is for making ratios."
   ]
  },
  {
   "cell_type": "code",
   "execution_count": null,
   "metadata": {
    "collapsed": false
   },
   "outputs": [],
   "source": [
    "openwords = r'/\\b(JJ|NN|VB|RB)+.?\\b/'\n",
    "clauses = r'S < __'\n",
    "opencount = interrogator(annual_trees, '-C', openwords)\n",
    "clausecount = interrogator(annual_trees, '-C', clauses)"
   ]
  },
  {
   "cell_type": "code",
   "execution_count": null,
   "metadata": {
    "collapsed": false
   },
   "outputs": [],
   "source": [
    "# ratio of open to closed word classes\n",
    "# already done this one:\n",
    "\n",
    "# openwords = r'/\\b(JJ|NN|VB|RB)+.?\\b/'\n",
    "# opencount = interrogator(annual_trees, '-C', openwords)\n",
    "\n",
    "closedwords = r'/\\b(DT|IN|CC|EX|W|MD|TO|PRP)+.?\\b/'\n",
    "closedcount = interrogator(annual_trees, '-C', closedwords)"
   ]
  },
  {
   "cell_type": "code",
   "execution_count": null,
   "metadata": {
    "collapsed": false
   },
   "outputs": [],
   "source": [
    "# ratio of nouns/verbs\n",
    "nounquery = r'/NN.?/ < __'\n",
    "verbquery = r'/VB.?/ < __'\n",
    "nouncount = interrogator(annual_trees, '-C', nounquery)\n",
    "verbcount = interrogator(annual_trees, '-C', verbquery)"
   ]
  },
  {
   "cell_type": "markdown",
   "metadata": {},
   "source": [
    "... and finally, plot the results:"
   ]
  },
  {
   "cell_type": "code",
   "execution_count": null,
   "metadata": {
    "collapsed": false
   },
   "outputs": [],
   "source": [
    "#plot results\n",
    "plotter('Lexical density', opencount.totals, fract_of = clausecount.totals, \n",
    "            y_label = 'Lexical Density Score', multiplier = 1, skip63 = True)\n",
    "\n",
    "plotter('Open/closed word classes', opencount.totals, fract_of = closedcount.totals, \n",
    "            y_label = 'Open/closed ratio', multiplier = 1, skip63 = True)\n",
    "\n",
    "plotter('Noun/verb ratio', nouncount.totals, fract_of = verbcount.totals, \n",
    "            y_label = 'Noun/verb ratio', multiplier = 1, skip63 = True)"
   ]
  },
  {
   "cell_type": "markdown",
   "metadata": {},
   "source": [
    "### General dependency queries"
   ]
  },
  {
   "cell_type": "markdown",
   "metadata": {},
   "source": [
    "Our final area of investigation was general dependency. This is identical to our investigation of risk dependencies, excepyt that we change our token definition from any risk word to any word."
   ]
  },
  {
   "cell_type": "code",
   "execution_count": null,
   "metadata": {
    "collapsed": false
   },
   "outputs": [],
   "source": [
    "all_functions = dependencies(annual_deps, 'funct', \n",
    "    r'(?i)[a-z0-9]', dep_type = 'basic-dependencies')"
   ]
  },
  {
   "cell_type": "code",
   "execution_count": null,
   "metadata": {
    "collapsed": false
   },
   "outputs": [],
   "source": [
    "plotter('Most common functional roles in parsed data', \n",
    "    all_functions.results, fract_of = all_functions.totals)"
   ]
  },
  {
   "cell_type": "markdown",
   "metadata": {},
   "source": [
    "We could then merge results into the categories of Subject, Finite/Predicator, Complement and Adjunct:"
   ]
  },
  {
   "cell_type": "code",
   "execution_count": null,
   "metadata": {
    "collapsed": false
   },
   "outputs": [],
   "source": [
    "quickview(all_functions.results, n = 60)"
   ]
  },
  {
   "cell_type": "code",
   "execution_count": null,
   "metadata": {
    "collapsed": false
   },
   "outputs": [],
   "source": [
    "merged_role = merger(all_functions.results, [], newname = 'Subject')\n",
    "merged_role = merger(merged_role, [], newname = 'Finite/Predicator')\n",
    "merged_role = merger(merged_role, [], newname = 'Complement')\n",
    "merged_role = merger(merged_role, [], newname = 'Adjunct')\n",
    "# remove all other items\n",
    "merged_role = surgeon(merged_role, [])\n",
    "\n",
    "plotter('Functional role using dependency parses', merged_role, fract_of = all_functions.totals)"
   ]
  },
  {
   "cell_type": "markdown",
   "metadata": {},
   "source": [
    "### Role and governor"
   ]
  },
  {
   "cell_type": "code",
   "execution_count": null,
   "metadata": {
    "collapsed": false
   },
   "outputs": [],
   "source": [
    "all_role_and_gov = dependencies(annual_deps, 'govrole', r'(?i)[a-z0-9]', \n",
    "    dep_type = 'basic-dependencies', lemmatise = True)"
   ]
  },
  {
   "cell_type": "code",
   "execution_count": null,
   "metadata": {
    "collapsed": false
   },
   "outputs": [],
   "source": [
    "plotter('Most common dependencies for risk words', all_role_and_gov.results, \n",
    "    fract_of = all_role_and_gov.totals)"
   ]
  },
  {
   "cell_type": "markdown",
   "metadata": {},
   "source": [
    "### Dependency index"
   ]
  },
  {
   "cell_type": "markdown",
   "metadata": {},
   "source": [
    "We were interested in whether the changes in risk dependency indices were part of a more general trend."
   ]
  },
  {
   "cell_type": "code",
   "execution_count": null,
   "metadata": {
    "collapsed": false
   },
   "outputs": [],
   "source": [
    "all_indices = dependencies(annual_deps, 'depnum', r'(?i)[a-z0-9]', dep_type = 'basic-dependencies')"
   ]
  },
  {
   "cell_type": "markdown",
   "metadata": {},
   "source": [
    "Our existing way of plotting results needed to be modified in order to show the information provided by the *depnum* search."
   ]
  },
  {
   "cell_type": "code",
   "execution_count": null,
   "metadata": {
    "collapsed": false
   },
   "outputs": [],
   "source": [
    "from operator import itemgetter # for more complex sorting\n",
    "# make a new list to reorder\n",
    "to_reorder = list(all_indices.results)\n",
    "dep_num = sorted(to_reorder, key=itemgetter(0), reverse = True)\n",
    "\n",
    "\n",
    "# alter list here"
   ]
  },
  {
   "cell_type": "code",
   "execution_count": null,
   "metadata": {
    "collapsed": false
   },
   "outputs": [],
   "source": [
    "plotter('Dependency indices for all words', sorted_indices, fract_of = all_indices.totals)\n",
    "\n",
    "# Due to limitations in available computational resources, our investigation did not involve parsing the full collection of NYT articles: we only used paragraphs containing a risk word. Longitudinal changes in the examples above are interesting in their own right. We hope in a further project to be able to expand the size of our corpus dramatically in order to determine the causes of these more general changes."
   ]
  },
  {
   "cell_type": "markdown",
   "metadata": {},
   "source": [
    "### Discussion"
   ]
  },
  {
   "cell_type": "markdown",
   "metadata": {},
   "source": [
    "### Limitations"
   ]
  },
  {
   "cell_type": "markdown",
   "metadata": {},
   "source": [
    "A key challenge accounting for the diverse ways in which a semantic meaning can be made in lexis and grammar. If we are interested in how often *money* is the risked thing, we have to design searches that find: \n",
    "\n",
    "     She risked her money\n",
    "     She risked losing her money\n",
    "     Money was risked\n",
    "     It was risked money\n",
    "     The risk of money loss was there\n",
    "     She took her money from her purse and risked it.\n",
    "\n",
    "Though we can design queries to match any of these, it is very difficult to automate this process for every possible 'risked thing'. It's also very hard to know when we have finally developed a query that matches everything we want.\n",
    "\n",
    "An added issue is how to treat things like:\n",
    "\n",
    "     She didn't risk her money\n",
    "     She risked no money\n",
    "     She could risk money\n",
    "\n",
    "Here, the semantic meanings are very different (the risking of money did not occur), but each would match the queries we designed for the above.\n",
    "\n",
    "Should these results be counted or excluded? Why?"
   ]
  },
  {
   "cell_type": "markdown",
   "metadata": {},
   "source": [
    "### interrogator()"
   ]
  },
  {
   "cell_type": "markdown",
   "metadata": {},
   "source": [
    "`interrogator()` is our main method for interrogating the annotated corpus. It takes any corpus with numerically named subcorpora as input. Tregex is used to query the corpus, and NLTK's WordNet Lemmatiser can optionally be called."
   ]
  },
  {
   "cell_type": "code",
   "execution_count": null,
   "metadata": {
    "collapsed": false
   },
   "outputs": [],
   "source": [
    "%load corpling_tools/interrogator.ipy"
   ]
  },
  {
   "cell_type": "markdown",
   "metadata": {},
   "source": [
    "### plotter()"
   ]
  },
  {
   "cell_type": "markdown",
   "metadata": {},
   "source": [
    "`plotter()` visualises results using `matplotlib*. It is designed to work with results generated by *interrogator()`. *IPython Magic* allows the inline display of generated images."
   ]
  },
  {
   "cell_type": "code",
   "execution_count": null,
   "metadata": {
    "collapsed": false
   },
   "outputs": [],
   "source": [
    "%load corpling_tools/plotter.ipy"
   ]
  },
  {
   "cell_type": "markdown",
   "metadata": {},
   "source": [
    "### Other functions"
   ]
  },
  {
   "cell_type": "markdown",
   "metadata": {},
   "source": [
    "Here you can see the code that comprises the other functions used in this Notebook."
   ]
  },
  {
   "cell_type": "code",
   "execution_count": null,
   "metadata": {
    "collapsed": false
   },
   "outputs": [],
   "source": [
    "%load corpling_tools/additional_tools.ipy"
   ]
  },
  {
   "cell_type": "markdown",
   "metadata": {},
   "source": [
    "### Copy-and-paste Tregex queries"
   ]
  },
  {
   "cell_type": "markdown",
   "metadata": {},
   "source": [
    "| Query | Gloss | Example  |\n",
    "|---|---|---|\n",
    "| a  |   |   |\n",
    "| b  |   |   |\n",
    "|  c |   |   |\n",
    "| d  |   |   |\n",
    "| e  |   |   |\n",
    "|  f |   |   |\n",
    "|  g |   |   |\n",
    "| h  |   |   |\n",
    "| i  |   |   |\n",
    "| j  |   |   |\n",
    "| k  |   |   |\n",
    "| l |  |   |"
   ]
  },
  {
   "cell_type": "markdown",
   "metadata": {},
   "source": [
    "### References"
   ]
  },
  {
   "cell_type": "markdown",
   "metadata": {},
   "source": [
    "<a id=\"eggins\"></a>\n",
    "Eggins, S. (2004). Introduction to systemic functional linguistics. Continuum International Publishing Group.\n",
    "\n",
    "<a id=\"firth\"></a>\n",
    "Firth, J. (1957).  *A Synopsis of Linguistic Theory 1930-1955*. In: Studies in Linguistic Analysis, Philological Society, Oxford; reprinted in Palmer, F. (ed.) 1968 Selected Papers of J. R. Firth, Longman, Harlow.\n",
    "\n",
    "<a id=\"hallmat\"></a>\n",
    "Halliday, M., & Matthiessen, C. (2004). An Introduction to Functional Grammar. Routledge."
   ]
  },
  {
   "cell_type": "markdown",
   "metadata": {},
   "source": [
    "### To do:"
   ]
  },
  {
   "cell_type": "markdown",
   "metadata": {},
   "source": [
    "* dependency parsing with nltk\n",
    "* corpus building and parsing guide\n",
    "* keywording, collocation, etc.\n",
    "* more NLTK ..."
   ]
  }
 ],
 "metadata": {
  "kernelspec": {
   "display_name": "Python 2",
   "language": "python",
   "name": "python2"
  },
  "language_info": {
   "codemirror_mode": {
    "name": "ipython",
    "version": 2
   },
   "file_extension": ".py",
   "mimetype": "text/x-python",
   "name": "python",
   "nbconvert_exporter": "python",
   "pygments_lexer": "ipython2",
   "version": "2.7.1"
  }
 },
 "nbformat": 4,
 "nbformat_minor": 0
}
